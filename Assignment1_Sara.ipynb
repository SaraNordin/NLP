{
 "cells": [
  {
   "cell_type": "code",
   "execution_count": 3,
   "metadata": {},
   "outputs": [],
   "source": [
    "import spacy\n",
    "from collections import Counter\n",
    "from collections import defaultdict"
   ]
  },
  {
   "cell_type": "markdown",
   "metadata": {},
   "source": [
    "# Warmup: Computing word frequencies"
   ]
  },
  {
   "cell_type": "code",
   "execution_count": 4,
   "metadata": {},
   "outputs": [],
   "source": [
    "def count_word_frequencies(YOUR_FILE, ENCODING):\n",
    "\n",
    "    freqs = Counter()\n",
    "    with open(YOUR_FILE, encoding = ENCODING) as f:\n",
    "        for line in f:\n",
    "            tokens = line.lower().split()\n",
    "            for token in tokens:\n",
    "                freqs[token] += 1\n",
    "                \n",
    "    return freqs"
   ]
  },
  {
   "cell_type": "code",
   "execution_count": 5,
   "metadata": {},
   "outputs": [],
   "source": [
    "def count_word_pairs(YOUR_FILE, ENCODING):\n",
    "    \n",
    "    freqs = defaultdict(Counter)\n",
    "    with open(YOUR_FILE, encoding = ENCODING) as f:\n",
    "        for line in f:\n",
    "            tokens = line.lower().split()\n",
    "            for t1, t2 in zip(tokens, tokens[1:]):\n",
    "                freqs[t1][t2] += 1\n",
    "    \n",
    "    return freqs"
   ]
  },
  {
   "cell_type": "code",
   "execution_count": 6,
   "metadata": {},
   "outputs": [
    {
     "data": {
      "text/plain": [
       "[('the', 3158463),\n",
       " (',', 2566261),\n",
       " ('.', 1956600),\n",
       " ('of', 1534698),\n",
       " ('and', 1260516),\n",
       " ('in', 1205759),\n",
       " ('a', 958283),\n",
       " ('to', 926287),\n",
       " ('-', 548244),\n",
       " ('is', 522101)]"
      ]
     },
     "execution_count": 6,
     "metadata": {},
     "output_type": "execute_result"
    }
   ],
   "source": [
    "wiki_freqs = count_word_frequencies(\"a1_data/wikipedia.txt\", 'utf-8')\n",
    "wiki_freqs.most_common()[0:10]"
   ]
  },
  {
   "cell_type": "code",
   "execution_count": 7,
   "metadata": {},
   "outputs": [
    {
     "data": {
      "text/plain": [
       "[('the', 3003965),\n",
       " (',', 2115604),\n",
       " ('.', 1536632),\n",
       " ('of', 1422333),\n",
       " ('to', 1341441),\n",
       " ('and', 1158234),\n",
       " ('in', 945160),\n",
       " ('that', 732156),\n",
       " ('a', 674231),\n",
       " ('is', 671969)]"
      ]
     },
     "execution_count": 7,
     "metadata": {},
     "output_type": "execute_result"
    }
   ],
   "source": [
    "euro_freqs = count_word_frequencies(\"a1_data/europarl.txt\", 'utf-8')\n",
    "euro_freqs.most_common()[0:10]"
   ]
  },
  {
   "cell_type": "code",
   "execution_count": 8,
   "metadata": {},
   "outputs": [
    {
     "data": {
      "text/plain": [
       "[('the', 2425678),\n",
       " (',', 2064433),\n",
       " ('.', 1958494),\n",
       " ('and', 1367843),\n",
       " ('of', 1321821),\n",
       " ('to', 1159024),\n",
       " ('a', 1103939),\n",
       " ('is', 792900),\n",
       " ('in', 739009),\n",
       " ('i', 704436)]"
      ]
     },
     "execution_count": 8,
     "metadata": {},
     "output_type": "execute_result"
    }
   ],
   "source": [
    "book_freqs = count_word_frequencies(\"a1_data/books.txt\", 'ISO-8859-1')\n",
    "book_freqs.most_common()[0:10]"
   ]
  },
  {
   "cell_type": "code",
   "execution_count": 16,
   "metadata": {},
   "outputs": [
    {
     "data": {
      "text/plain": [
       "[('sox', 495),\n",
       " ('and', 467),\n",
       " ('-', 454),\n",
       " ('army', 404),\n",
       " ('cross', 278),\n",
       " ('.', 213),\n",
       " ('wings', 208),\n",
       " ('sea', 177),\n",
       " ('river', 166)]"
      ]
     },
     "execution_count": 16,
     "metadata": {},
     "output_type": "execute_result"
    }
   ],
   "source": [
    "wiki_pairs = count_word_pairs(\"a1_data/wikipedia.txt\", 'utf-8')\n",
    "wiki_pairs[\"red\"].most_common()[1:10]"
   ]
  },
  {
   "cell_type": "code",
   "execution_count": 17,
   "metadata": {},
   "outputs": [
    {
     "data": {
      "text/plain": [
       "[('cross', 214),\n",
       " ('card', 54),\n",
       " ('lines', 37),\n",
       " ('and', 26),\n",
       " ('army', 26),\n",
       " ('light', 25),\n",
       " ('line', 23),\n",
       " (',', 22),\n",
       " ('.', 18)]"
      ]
     },
     "execution_count": 17,
     "metadata": {},
     "output_type": "execute_result"
    }
   ],
   "source": [
    "euro_pairs = count_word_pairs(\"a1_data/europarl.txt\", 'utf-8')\n",
    "euro_pairs[\"red\"].most_common()[1:10]"
   ]
  },
  {
   "cell_type": "code",
   "execution_count": 18,
   "metadata": {},
   "outputs": [
    {
     "data": {
      "text/plain": [
       "[('herrings', 175),\n",
       " (',', 132),\n",
       " ('army', 126),\n",
       " ('and', 104),\n",
       " ('riding', 83),\n",
       " ('wine', 75),\n",
       " ('october', 69),\n",
       " ('cross', 65),\n",
       " ('\"', 65)]"
      ]
     },
     "execution_count": 18,
     "metadata": {},
     "output_type": "execute_result"
    }
   ],
   "source": [
    "book_pairs = count_word_pairs(\"a1_data/books.txt\", 'ISO-8859-1')\n",
    "book_pairs[\"red\"].most_common()[1:10]"
   ]
  }
 ],
 "metadata": {
  "kernelspec": {
   "display_name": "Python 3",
   "language": "python",
   "name": "python3"
  },
  "language_info": {
   "codemirror_mode": {
    "name": "ipython",
    "version": 3
   },
   "file_extension": ".py",
   "mimetype": "text/x-python",
   "name": "python",
   "nbconvert_exporter": "python",
   "pygments_lexer": "ipython3",
   "version": "3.7.6"
  }
 },
 "nbformat": 4,
 "nbformat_minor": 4
}
