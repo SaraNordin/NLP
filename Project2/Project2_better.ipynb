{
 "cells": [
  {
   "cell_type": "markdown",
   "metadata": {},
   "source": [
    "# Imports"
   ]
  },
  {
   "cell_type": "code",
   "execution_count": 89,
   "metadata": {},
   "outputs": [],
   "source": [
    "import numpy as np\n",
    "import pandas as pd\n",
    "import spacy\n",
    "nlp = spacy.load('en_core_web_sm')\n",
    "\n",
    "import time\n",
    "\n",
    "from numpy import random as rd\n",
    "from scipy.special import gammaln\n",
    "from collections import Counter\n",
    "from collections import defaultdict\n",
    "from matplotlib import pyplot as plt\n",
    "\n",
    "# Import stopwords\n",
    "import nltk\n",
    "from nltk.corpus import stopwords\n",
    "stop = stopwords.words('english')"
   ]
  },
  {
   "cell_type": "markdown",
   "metadata": {},
   "source": [
    "# 1 - Collapsed Gibbs sampling for LDA"
   ]
  },
  {
   "cell_type": "markdown",
   "metadata": {
    "heading_collapsed": true
   },
   "source": [
    "## Setup"
   ]
  },
  {
   "cell_type": "code",
   "execution_count": 2,
   "metadata": {
    "hidden": true
   },
   "outputs": [],
   "source": [
    "def docs_to_int(corpus:str, encoding:str, nr_tokens:int, stop:list) -> (list(), Counter()):\n",
    "    \n",
    "    token_count = 0\n",
    "    docs = list()\n",
    "    docs_count = 0\n",
    "    \n",
    "    # Find unique words (removal of stopwords and punctuations and other stuff.)\n",
    "    freqs = Counter()   \n",
    "    \n",
    "    with open(corpus, encoding = encoding) as f:\n",
    "        \n",
    "        while token_count < nr_tokens:\n",
    "            \n",
    "            doc = f.readline()\n",
    "            docs_count += 1\n",
    "            temp_doc = list()\n",
    "            \n",
    "            # Lemmatizion of tokens\n",
    "            result = nlp(doc.lower(), disable=['tagger', 'parser', 'ner'])\n",
    "            \n",
    "            for token in result:\n",
    "                if len(token.lemma_) > 2:\n",
    "                    if token.lemma_ not in stop:\n",
    "                        token_count += 1\n",
    "                        freqs[token.lemma_] += 1\n",
    "                        temp_doc.append(token.lemma_)\n",
    "                        \n",
    "            docs.append(temp_doc)\n",
    "\n",
    "    print('Nr of tokens:' + str(token_count))\n",
    "    print('Nr of docs:' + str(docs_count))\n",
    "    \n",
    "    # Create bag of words\n",
    "    bow = []\n",
    "    vocab = freqs.most_common()\n",
    "\n",
    "    for i in range(len(vocab)):\n",
    "        bow.append(vocab[i][0])\n",
    "\n",
    "    # Get pairs of elements    \n",
    "    tmp = zip(bow, range(0,len(vocab)-1))\n",
    "    # Make pairs into a dictionary\n",
    "    vocab = dict(tmp)\n",
    "        \n",
    "    # Match token to int\n",
    "    docs_int = list()\n",
    "    \n",
    "    for doc in docs:\n",
    "        docs_int.append(list([vocab.get(x) for x in doc]))\n",
    "        \n",
    "    return docs_int, freqs, vocab"
   ]
  },
  {
   "cell_type": "code",
   "execution_count": 3,
   "metadata": {
    "hidden": true
   },
   "outputs": [],
   "source": [
    "#stop = list(string.punctuation)\n",
    "stop = list()\n",
    "\n",
    "for x in stopwords.words('english'):\n",
    "    stop.append(x)\n",
    "\n",
    "'''\n",
    "Add a couple of more stopwords which were observed manually\n",
    "'''\n",
    "for x in ['-PRON-','\\n','...','..',\"'d'\",\"n't\"]:\n",
    "    stop.append(x)\n",
    "    "
   ]
  },
  {
   "cell_type": "markdown",
   "metadata": {
    "heading_collapsed": true
   },
   "source": [
    "## Code"
   ]
  },
  {
   "cell_type": "code",
   "execution_count": 4,
   "metadata": {
    "hidden": true
   },
   "outputs": [],
   "source": [
    "# Define variables\n",
    "\n",
    "corpus = 'books.txt'\n",
    "encoding = 'ISO-8859-1'\n",
    "M = 10**5    # Corpus size"
   ]
  },
  {
   "cell_type": "code",
   "execution_count": 5,
   "metadata": {
    "hidden": true
   },
   "outputs": [
    {
     "name": "stdout",
     "output_type": "stream",
     "text": [
      "Nr of tokens:100030\n",
      "Nr of docs:1237\n"
     ]
    }
   ],
   "source": [
    "docs_int, freqs, vocab = docs_to_int(corpus=corpus, encoding=encoding, nr_tokens=M, stop = stop)\n",
    "vocab_size = len(freqs)"
   ]
  },
  {
   "cell_type": "code",
   "execution_count": 6,
   "metadata": {
    "hidden": true
   },
   "outputs": [
    {
     "data": {
      "text/plain": [
       "[(1236, 99)]"
      ]
     },
     "execution_count": 6,
     "metadata": {},
     "output_type": "execute_result"
    }
   ],
   "source": [
    "nan_loc = []\n",
    "\n",
    "for d, line in enumerate(docs_int):\n",
    "\n",
    "    for j, w in enumerate(line):\n",
    "        if w == None:\n",
    "            nan_loc.append((d, j))\n",
    "        \n",
    "nan_loc"
   ]
  },
  {
   "cell_type": "code",
   "execution_count": 7,
   "metadata": {
    "collapsed": true,
    "hidden": true
   },
   "outputs": [
    {
     "name": "stdout",
     "output_type": "stream",
     "text": [
      "it 's amazing how despite all the tragedies and wars , big business elitists are able to cash in on the damage while religious fundamentalists never get caught , much less held accountable . the idiots who show their hate of this book are from terrorist nations that have a knack of socializing poverty and terrorism while at the same time privatizing wealth . despite all the big talk about winning the so-called war on terrorism , the ugly truth is wars have not taught us anything . if it were n't for big business funding hitler , hitler would have had a harder time killing the jews . sadly though , even after world war ii ended , the big business elites that funded and continue to fund dictatorships like hitler , stalin , and the modern ones are not only not held accountable but often end up walking away as \" heroes \" . if we 're really going to win the war on terrorism and / or poverty , we 're going to have to stop supporting big business elite and stop allowing our uber-corrupt politicians from exploiting peoples fears on terrorism even while maximizing poverty \n",
      "\n",
      "0 amaze\n",
      "1 despite\n",
      "2 tragedy\n",
      "3 war\n",
      "4 big\n",
      "5 business\n",
      "6 elitist\n",
      "7 able\n",
      "8 cash\n",
      "9 damage\n",
      "10 religious\n",
      "11 fundamentalist\n",
      "12 never\n",
      "13 get\n",
      "14 catch\n",
      "15 much\n",
      "16 little\n",
      "17 hold\n",
      "18 accountable\n",
      "19 idiot\n",
      "20 show\n",
      "21 hate\n",
      "22 book\n",
      "23 terrorist\n",
      "24 nation\n",
      "25 knack\n",
      "26 socialize\n",
      "27 poverty\n",
      "28 terrorism\n",
      "29 time\n",
      "30 privatize\n",
      "31 wealth\n",
      "32 despite\n",
      "33 big\n",
      "34 talk\n",
      "35 win\n",
      "36 call\n",
      "37 war\n",
      "38 terrorism\n",
      "39 ugly\n",
      "40 truth\n",
      "41 war\n",
      "42 teach\n",
      "43 anything\n",
      "44 big\n",
      "45 business\n",
      "46 fund\n",
      "47 hitler\n",
      "48 hitler\n",
      "49 would\n",
      "50 hard\n",
      "51 time\n",
      "52 kill\n",
      "53 jews\n",
      "54 sadly\n",
      "55 though\n",
      "56 even\n",
      "57 world\n",
      "58 war\n",
      "59 end\n",
      "60 big\n",
      "61 business\n",
      "62 elite\n",
      "63 fund\n",
      "64 continue\n",
      "65 fund\n",
      "66 dictatorship\n",
      "67 like\n",
      "68 hitler\n",
      "69 stalin\n",
      "70 modern\n",
      "71 one\n",
      "72 hold\n",
      "73 accountable\n",
      "74 often\n",
      "75 end\n",
      "76 walk\n",
      "77 away\n",
      "78 hero\n",
      "79 really\n",
      "80 win\n",
      "81 war\n",
      "82 terrorism\n",
      "83 poverty\n",
      "84 stop\n",
      "85 support\n",
      "86 big\n",
      "87 business\n",
      "88 elite\n",
      "89 stop\n",
      "90 allow\n",
      "91 uber\n",
      "92 corrupt\n",
      "93 politician\n",
      "94 exploit\n",
      "95 people\n",
      "96 fear\n",
      "97 terrorism\n",
      "98 even\n",
      "99 maximize\n",
      "100 poverty\n"
     ]
    }
   ],
   "source": [
    "temp_doc = []\n",
    "\n",
    "with open(corpus, encoding = encoding) as f:\n",
    "    for line_idx, line in enumerate(f):\n",
    "        if line_idx == d:\n",
    "            print(line)\n",
    "            \n",
    "            result = nlp(line.lower(), disable=['tagger', 'parser', 'ner'])\n",
    "            \n",
    "            for token in result:\n",
    "                if len(token.lemma_) > 2:\n",
    "                    if token.lemma_ not in stop:\n",
    "                        \n",
    "                        temp_doc.append(token.lemma_)\n",
    "                             \n",
    "            for idx, token in enumerate(temp_doc):\n",
    "                print(idx, token)"
   ]
  },
  {
   "cell_type": "code",
   "execution_count": 135,
   "metadata": {
    "hidden": true
   },
   "outputs": [],
   "source": [
    "# Quick fix - sort this out later\n",
    "docs_int[nan_loc[0][0]][nan_loc[0][1]] = 0"
   ]
  },
  {
   "cell_type": "code",
   "execution_count": 9,
   "metadata": {
    "hidden": true
   },
   "outputs": [
    {
     "data": {
      "text/plain": [
       "[('book', 2795),\n",
       " ('much', 1163),\n",
       " ('read', 1097),\n",
       " ('one', 834),\n",
       " ('good', 736),\n",
       " ('like', 540),\n",
       " ('would', 524),\n",
       " ('write', 522),\n",
       " ('make', 488),\n",
       " ('story', 476)]"
      ]
     },
     "execution_count": 9,
     "metadata": {},
     "output_type": "execute_result"
    }
   ],
   "source": [
    "freqs.most_common()[0:10]"
   ]
  },
  {
   "cell_type": "code",
   "execution_count": 10,
   "metadata": {
    "hidden": true
   },
   "outputs": [
    {
     "data": {
      "text/plain": [
       "[17, 3, 0, 2121, 255, 6919, 1912, 21, 5, 116, 394, 6920, 3824, 2740]"
      ]
     },
     "execution_count": 10,
     "metadata": {},
     "output_type": "execute_result"
    }
   ],
   "source": [
    "docs_int[10]"
   ]
  },
  {
   "cell_type": "code",
   "execution_count": 11,
   "metadata": {
    "hidden": true
   },
   "outputs": [
    {
     "data": {
      "text/plain": [
       "4869"
      ]
     },
     "execution_count": 11,
     "metadata": {},
     "output_type": "execute_result"
    }
   ],
   "source": [
    "vocab[\"astral\"]"
   ]
  },
  {
   "cell_type": "markdown",
   "metadata": {
    "heading_collapsed": true
   },
   "source": [
    "## LDA Functions"
   ]
  },
  {
   "cell_type": "code",
   "execution_count": 12,
   "metadata": {
    "hidden": true
   },
   "outputs": [],
   "source": [
    "def initialize_lda(docs_int, freqs, n_topics):\n",
    "    \n",
    "    n_docs = len(docs_int)\n",
    "    vocab_size = len(freqs)\n",
    "\n",
    "    # Number of times that we observe topic z in document d\n",
    "    ndz = np.zeros((n_docs, n_topics))\n",
    "\n",
    "    # Number of times that we observe word w in topic z\n",
    "    nzw = np.zeros((n_topics, vocab_size))\n",
    "\n",
    "    # Counters for documents and topics\n",
    "    nd = np.zeros(n_docs)\n",
    "    nz = np.zeros(n_topics)\n",
    "\n",
    "    # Create dictionary of topics\n",
    "    topics = {}\n",
    "\n",
    "    # iterate over documents \n",
    "    for d, line in enumerate(docs_int):\n",
    "        for i, w in enumerate(line):\n",
    "                  \n",
    "            # w = docs_int[d][i] # Numerical rep of word w in doc d\n",
    "\n",
    "            # Initialise with a random topic\n",
    "            z = np.random.randint(n_topics)\n",
    "            topics[(d,i)] = z\n",
    "\n",
    "            # Increase counters\n",
    "            ndz[d, z] += 1\n",
    "            nzw[z, w] += 1\n",
    "\n",
    "            nd[d] += 1\n",
    "            nz[z] += 1\n",
    "\n",
    "    return topics, ndz, nzw, nd, nz"
   ]
  },
  {
   "cell_type": "code",
   "execution_count": 13,
   "metadata": {
    "hidden": true
   },
   "outputs": [],
   "source": [
    "def cond_topic_prob(ndz, nzw, nz, nd, w, d, alpha, beta, n_topics, voc_size):\n",
    "    \"\"\"\n",
    "    Conditional probability of topics. \n",
    "    \"\"\"\n",
    "\n",
    "    left = (nzw[:,w] + beta) / (nz + beta * voc_size)\n",
    "    right = (ndz[d,:] + alpha) / (nd[d] + alpha * n_topics)\n",
    "\n",
    "    p_z = left * right\n",
    "    p_z /= np.sum(p_z)\n",
    "    \n",
    "    return p_z"
   ]
  },
  {
   "cell_type": "code",
   "execution_count": 14,
   "metadata": {
    "hidden": true
   },
   "outputs": [],
   "source": [
    "def log_multinomial_beta(alpha, K=None):\n",
    "\n",
    "    if K is None:\n",
    "        # alpha is assumed to be a vector\n",
    "        return np.sum(gammaln(alpha)) - gammaln(np.sum(alpha))\n",
    "    else:\n",
    "        # alpha is assumed to be a scalar\n",
    "        return K * gammaln(alpha) - gammaln(K*alpha)\n"
   ]
  },
  {
   "cell_type": "code",
   "execution_count": 15,
   "metadata": {
    "hidden": true
   },
   "outputs": [],
   "source": [
    "def loglikelihood(n_topics, voc_size, alpha, beta, nzw, ndz):\n",
    "    likelihood = 0\n",
    "    \n",
    "    n_docs = ndz.shape[0]\n",
    "    \n",
    "    for z in range(n_topics):\n",
    "        likelihood += log_multinomial_beta(nzw[z,:] + beta)\n",
    "        likelihood -= log_multinomial_beta(beta, voc_size)\n",
    "        \n",
    "    for d in range(n_docs):\n",
    "        likelihood += log_multinomial_beta(ndz[d,:] + alpha)\n",
    "        likelihood -= log_multinomial_beta(alpha, n_topics)\n",
    "        \n",
    "    return likelihood"
   ]
  },
  {
   "cell_type": "code",
   "execution_count": 20,
   "metadata": {
    "hidden": true
   },
   "outputs": [],
   "source": [
    "def LDA_Gibbs_Sampler(docs_int, voc_size, n_topics, max_iterations, alpha, beta, freqs):\n",
    "\n",
    "    start_time = time.time()\n",
    "    log_vec = []\n",
    "    topics, ndz, nzw, nd, nz = initialize_lda(docs_int, freqs, n_topics)\n",
    "\n",
    "    for i in range(max_iterations):\n",
    "        for d, line in enumerate(docs_int):\n",
    "             for j, w in enumerate(line):\n",
    "                \n",
    "                z = topics[(d, j)]\n",
    "                ndz[d, z] -= 1\n",
    "                nzw[z, w] -= 1\n",
    "                nd[d] -= 1\n",
    "                nz[z] -= 1\n",
    "            \n",
    "                # Compute probabilities, and choose a new topic z\n",
    "                p_z = cond_topic_prob(ndz, nzw, nz, nd, w, d, alpha, beta, n_topics, vocab_size)\n",
    "                z = np.random.multinomial(1, p_z).argmax() # maybe don't use argmax, use it as a probability\n",
    "                \n",
    "                ndz[d,z] += 1\n",
    "                nzw[z,w] += 1\n",
    "                nd[d] += 1\n",
    "                nz[z] += 1\n",
    "                topics[(d, j)] = z    \n",
    "        \n",
    "        if i % 10 == 0:\n",
    "            print(\"Iteration\", i)\n",
    "            \n",
    "            # Calculate log likelihood\n",
    "            log_l = loglikelihood(n_topics, voc_size, alpha, beta, nzw, ndz)\n",
    "            log_vec.append(log_l)\n",
    "            print(\"Likelihood\", log_l)\n",
    "\n",
    "    elapsed_time = time.time() - start_time\n",
    "    print(\"Elapsed time: \", elapsed_time)\n",
    "    \n",
    "    return nzw, log_vec"
   ]
  },
  {
   "cell_type": "code",
   "execution_count": 17,
   "metadata": {
    "hidden": true
   },
   "outputs": [],
   "source": [
    "def show_words_by_topic(word_topic_prob, vocabulary, typical_len):\n",
    "    \n",
    "    n_topics = word_topic_prob.shape[0]\n",
    "    typical_words = []\n",
    "\n",
    "    for i in range(n_topics):\n",
    "        arr = word_topic_prob[i,:]\n",
    "        typical_ints = arr.argsort()[-typical_len-2:-2][::-1]   # there's some funny business with the last word in vocab\n",
    "        #print(typical_ints)\n",
    "\n",
    "        for search_int in typical_ints:\n",
    "            if search_int in [0, -1]:\n",
    "                typical_words.append(\"\")\n",
    "            else:\n",
    "                for k, v in vocabulary.items(): \n",
    "                    if v == search_int:\n",
    "                        typical_words.append(k)\n",
    "                        break\n",
    "\n",
    "    # Print the most common words in each topic\n",
    "    typical_words = np.reshape(typical_words, [n_topics, -1])\n",
    "    print(typical_words)"
   ]
  },
  {
   "cell_type": "markdown",
   "metadata": {},
   "source": [
    "## Code"
   ]
  },
  {
   "cell_type": "code",
   "execution_count": 121,
   "metadata": {},
   "outputs": [],
   "source": [
    "it = 400      # Nr of iterations"
   ]
  },
  {
   "cell_type": "markdown",
   "metadata": {
    "heading_collapsed": true
   },
   "source": [
    "### 10 Topics, $\\alpha = \\beta = 0.1$"
   ]
  },
  {
   "cell_type": "code",
   "execution_count": 122,
   "metadata": {
    "collapsed": true,
    "hidden": true
   },
   "outputs": [
    {
     "name": "stdout",
     "output_type": "stream",
     "text": [
      "Iteration 0\n",
      "Likelihood -1032404.0797602335\n",
      "Iteration 10\n",
      "Likelihood -923691.7263883833\n",
      "Iteration 20\n",
      "Likelihood -903896.2155518925\n",
      "Iteration 30\n",
      "Likelihood -893974.7724219951\n",
      "Iteration 40\n",
      "Likelihood -889392.2656591529\n",
      "Iteration 50\n",
      "Likelihood -885255.2946135086\n",
      "Iteration 60\n",
      "Likelihood -883507.2003660903\n",
      "Iteration 70\n",
      "Likelihood -880579.0395155222\n",
      "Iteration 80\n",
      "Likelihood -878410.5853517882\n",
      "Iteration 90\n",
      "Likelihood -877243.6137591964\n",
      "Iteration 100\n",
      "Likelihood -874813.2720250909\n",
      "Iteration 110\n",
      "Likelihood -872605.8079628327\n",
      "Iteration 120\n",
      "Likelihood -870815.219891466\n",
      "Iteration 130\n",
      "Likelihood -869247.64045504\n",
      "Iteration 140\n",
      "Likelihood -868682.240191625\n",
      "Iteration 150\n",
      "Likelihood -868299.0636592628\n",
      "Iteration 160\n",
      "Likelihood -867516.9617323613\n",
      "Iteration 170\n",
      "Likelihood -865926.6826918499\n",
      "Iteration 180\n",
      "Likelihood -864948.0154762262\n",
      "Iteration 190\n",
      "Likelihood -863244.3425945294\n",
      "Iteration 200\n",
      "Likelihood -861091.3095659362\n",
      "Iteration 210\n",
      "Likelihood -859246.315892085\n",
      "Iteration 220\n",
      "Likelihood -857986.4077502127\n",
      "Iteration 230\n",
      "Likelihood -855967.1884758831\n",
      "Iteration 240\n",
      "Likelihood -854916.8509760828\n",
      "Iteration 250\n",
      "Likelihood -853589.668595743\n",
      "Iteration 260\n",
      "Likelihood -852583.241701688\n",
      "Iteration 270\n",
      "Likelihood -852148.1870217772\n",
      "Iteration 280\n",
      "Likelihood -852542.765722532\n",
      "Iteration 290\n",
      "Likelihood -851500.0491151703\n",
      "Iteration 300\n",
      "Likelihood -851322.0947069976\n",
      "Iteration 310\n",
      "Likelihood -851948.6194147657\n",
      "Iteration 320\n",
      "Likelihood -850098.6745763248\n",
      "Iteration 330\n",
      "Likelihood -849946.7952692456\n",
      "Iteration 340\n",
      "Likelihood -848834.9398925521\n",
      "Iteration 350\n",
      "Likelihood -848985.9253395064\n",
      "Iteration 360\n",
      "Likelihood -848972.5135882722\n",
      "Iteration 370\n",
      "Likelihood -849117.5466001316\n",
      "Iteration 380\n",
      "Likelihood -849236.1955073393\n",
      "Iteration 390\n",
      "Likelihood -849018.0054881767\n",
      "Elapsed time:  2210.7752692699432\n",
      "[['story' 'woman' 'reader' 'man' 'jason' 'plot' 'human' 'series' 'murder'\n",
      "  'sex']\n",
      " ['mother' 'family' 'old' 'dog' 'young' 'father' 'life' 'man' 'year'\n",
      "  'school']\n",
      " ['history' 'sam' 'news' 'political' 'government' 'country' 'account'\n",
      "  'america' 'state' 'military']\n",
      " ['translation' 'cat' 'language' 'funny' 'use' 'word' 'introduction'\n",
      "  'name' 'dictionary' 'english']\n",
      " ['good' 'use' 'work' 'many' 'think' 'write' 'student' 'example' 'make'\n",
      "  'understand']\n",
      " ['food' 'eat' 'include' 'plant' 'cook' 'find' 'look' 'guide' 'diet'\n",
      "  'garden']\n",
      " ['norris' 'play' 'money' 'school' 'team' 'real' 'mcginnis' 'mcdonald'\n",
      "  'estate' 'rich']\n",
      " ['music' 'mean' 'art' 'artist' 'contemporary' 'student' 'journey'\n",
      "  'pattern' 'original' 'cell']\n",
      " ['smith' 'church' 'prospero' 'modern' 'horse' 'machine' 'science'\n",
      "  'spiritual' 'ancient' 'man']\n",
      " ['much' 'one' 'like' 'good' 'would' 'time' 'get' 'write' 'make' 'find']]\n"
     ]
    },
    {
     "data": {
      "image/png": "[encoded data removed]",
      "text/plain": [
       "<Figure size 432x288 with 1 Axes>"
      ]
     },
     "metadata": {
      "needs_background": "light"
     },
     "output_type": "display_data"
    }
   ],
   "source": [
    "K = 10\n",
    "alpha = 0.1\n",
    "beta = alpha\n",
    "\n",
    "word_topic_prob_01_10, log_lik_01_10 = LDA_Gibbs_Sampler(docs_int, vocab_size, K, it, alpha, beta, freqs)"
   ]
  },
  {
   "cell_type": "code",
   "execution_count": 127,
   "metadata": {
    "hidden": true
   },
   "outputs": [
    {
     "name": "stdout",
     "output_type": "stream",
     "text": [
      "[['story' 'woman' 'reader' 'man' 'jason' 'plot' 'human' 'series' 'murder'\n",
      "  'sex']\n",
      " ['mother' 'family' 'old' 'dog' 'young' 'father' 'life' 'man' 'year'\n",
      "  'school']\n",
      " ['history' 'sam' 'news' 'political' 'government' 'country' 'account'\n",
      "  'america' 'state' 'military']\n",
      " ['translation' 'cat' 'language' 'funny' 'use' 'word' 'introduction'\n",
      "  'name' 'dictionary' 'english']\n",
      " ['good' 'use' 'work' 'many' 'think' 'write' 'student' 'example' 'make'\n",
      "  'understand']\n",
      " ['food' 'eat' 'include' 'plant' 'cook' 'find' 'look' 'guide' 'diet'\n",
      "  'garden']\n",
      " ['norris' 'play' 'money' 'school' 'team' 'real' 'mcginnis' 'mcdonald'\n",
      "  'estate' 'rich']\n",
      " ['music' 'mean' 'art' 'artist' 'contemporary' 'student' 'journey'\n",
      "  'pattern' 'original' 'cell']\n",
      " ['smith' 'church' 'prospero' 'modern' 'horse' 'machine' 'science'\n",
      "  'spiritual' 'ancient' 'man']\n",
      " ['much' 'one' 'like' 'good' 'would' 'time' 'get' 'write' 'make' 'find']]\n"
     ]
    }
   ],
   "source": [
    "show_words_by_topic(word_topic_prob_01_10, vocab, 10)"
   ]
  },
  {
   "cell_type": "code",
   "execution_count": 128,
   "metadata": {
    "hidden": true
   },
   "outputs": [
    {
     "data": {
      "image/png": "[encoded data removed]",
      "text/plain": [
       "<Figure size 432x288 with 1 Axes>"
      ]
     },
     "metadata": {
      "needs_background": "light"
     },
     "output_type": "display_data"
    }
   ],
   "source": [
    "plt.plot(range(0, it, 10), log_lik_01_10)\n",
    "plt.grid(True)\n",
    "plt.xlabel(\"Iteration\")\n",
    "plt.ylabel(\"Log likelihood\")\n",
    "plt.show()"
   ]
  },
  {
   "cell_type": "markdown",
   "metadata": {
    "heading_collapsed": true
   },
   "source": [
    "### 50 Topics, $\\alpha = \\beta = 0.1$"
   ]
  },
  {
   "cell_type": "code",
   "execution_count": 123,
   "metadata": {
    "collapsed": true,
    "hidden": true
   },
   "outputs": [
    {
     "name": "stdout",
     "output_type": "stream",
     "text": [
      "Iteration 0\n",
      "Likelihood -1182689.14752616\n",
      "Iteration 10\n",
      "Likelihood -994990.689248799\n",
      "Iteration 20\n",
      "Likelihood -951603.0399049424\n",
      "Iteration 30\n",
      "Likelihood -927141.0115349921\n",
      "Iteration 40\n",
      "Likelihood -915381.3917071999\n",
      "Iteration 50\n",
      "Likelihood -906532.8434499218\n",
      "Iteration 60\n",
      "Likelihood -899585.6598606339\n",
      "Iteration 70\n",
      "Likelihood -895585.097808803\n",
      "Iteration 80\n",
      "Likelihood -893333.3523915298\n",
      "Iteration 90\n",
      "Likelihood -891457.5222107462\n",
      "Iteration 100\n",
      "Likelihood -889679.6335538579\n",
      "Iteration 110\n",
      "Likelihood -890258.88566321\n",
      "Iteration 120\n",
      "Likelihood -887487.047747247\n",
      "Iteration 130\n",
      "Likelihood -887162.7629106794\n",
      "Iteration 140\n",
      "Likelihood -887365.1008180174\n",
      "Iteration 150\n",
      "Likelihood -886587.0906295455\n",
      "Iteration 160\n",
      "Likelihood -886041.7132673647\n",
      "Iteration 170\n",
      "Likelihood -885989.9339772859\n",
      "Iteration 180\n",
      "Likelihood -885550.655989997\n",
      "Iteration 190\n",
      "Likelihood -886269.3361995897\n",
      "Iteration 200\n",
      "Likelihood -884740.4917677735\n",
      "Iteration 210\n",
      "Likelihood -884604.607452892\n",
      "Iteration 220\n",
      "Likelihood -885379.9187646321\n",
      "Iteration 230\n",
      "Likelihood -885309.4191252502\n",
      "Iteration 240\n",
      "Likelihood -885801.8325480891\n",
      "Iteration 250\n",
      "Likelihood -884938.3173751186\n",
      "Iteration 260\n",
      "Likelihood -884602.0410428155\n",
      "Iteration 270\n",
      "Likelihood -885095.8676436289\n",
      "Iteration 280\n",
      "Likelihood -884318.1159599749\n",
      "Iteration 290\n",
      "Likelihood -883560.7258684956\n",
      "Iteration 300\n",
      "Likelihood -885036.804449348\n",
      "Iteration 310\n",
      "Likelihood -884608.8699248455\n",
      "Iteration 320\n",
      "Likelihood -885225.5234571894\n",
      "Iteration 330\n",
      "Likelihood -884750.649850322\n",
      "Iteration 340\n",
      "Likelihood -885510.797442363\n",
      "Iteration 350\n",
      "Likelihood -884896.2110578119\n",
      "Iteration 360\n",
      "Likelihood -885033.8181756561\n",
      "Iteration 370\n",
      "Likelihood -884058.7675673502\n",
      "Iteration 380\n",
      "Likelihood -883468.3451276494\n",
      "Iteration 390\n",
      "Likelihood -885622.7607065641\n",
      "Elapsed time:  2277.1362977027893\n",
      "[['religious' 'evidence' 'worship' 'dirk' 'claim' 'warn' 'computer'\n",
      "  'morton' 'probability' 'technology']\n",
      " ['mcginnis' 'mcdonald' 'nature' 'nightjohn' 'another' 'man' 'ethic'\n",
      "  'theory' 'slave' 'though']\n",
      " ['much' 'story' 'one' 'good' 'like' 'character' 'love' 'get' 'would'\n",
      "  'time']\n",
      " ['medium' 'team' 'reporter' 'aid' 'numb' 'wilson' 'steve' 'liberal'\n",
      "  'york' 'disaster']\n",
      " ['corp' 'hmong' 'culture' 'river' 'pakistan' 'ebay' 'critic' 'meaker'\n",
      "  'levee' 'katrina']\n",
      " ['community' 'historical' 'bible' 'pray' 'christian' 'vampire' 'pope'\n",
      "  'release' 'hal' 'prophecy']\n",
      " ['god' 'whitman' 'coast' 'captain' 'dick' 'literary' 'ash' 'poem' 'bud'\n",
      "  'weaver']\n",
      " ['mike' 'howard' 'conan' 'dozen' 'plague' 'horton' 'wyoh' 'anna'\n",
      "  'outstanding' 'colony']\n",
      " ['card' 'invest' 'rich' 'financial' 'success' 'oil' 'poor' 'gay'\n",
      "  'millionaire' 'message']\n",
      " ['testament' 'cameron' 'alpha' 'mann' 'dictionary' 'wolf' 'yapko'\n",
      "  'participant' 'power' 'foster']\n",
      " ['map' 'space' 'wine' 'security' 'historian' 'pack' 'trip' 'country'\n",
      "  'coelho' 'veronika']\n",
      " ['doug' 'bear' 'club' 'conflict' 'poorly' 'kind' 'destroy' 'folk'\n",
      "  'objective' 'evil']\n",
      " ['future' 'marvelous' 'sci' 'laura' 'max' 'london' 'simak' 'earth' 'dog'\n",
      "  'sprawl']\n",
      " ['america' 'political' 'country' 'military' 'government' 'president'\n",
      "  'show' 'power' 'society' 'u.s']\n",
      " ['valyan' 'doubt' 'french' 'twin' 'carl' 'passage' 'adult' 'niki' 'past'\n",
      "  'invent']\n",
      " ['adjust' 'anime' 'baseball' 'object' 'tutorial' 'site' 'wander'\n",
      "  'regardless' 'ackerman' 'bat']\n",
      " ['player' 'british' 'football' 'hell' 'high' 'group' 'ludlum' 'carry'\n",
      "  'american' 'poker']\n",
      " ['system' 'syllable' 'edition' 'malory' 'queene' 'dimension' 'faerie'\n",
      "  'mbti' 'probably' 'penguin']\n",
      " ['read' 'one' 'good' 'write' 'make' 'find' 'would' 'use' 'great' 'many']\n",
      " ['east' 'inform' 'species' 'bird' 'mexico' 'rome' 'recent' 'free' 'alot'\n",
      "  'livy']\n",
      " ['von' 'model' 'computer' 'intelligence' 'behavior' 'newmann' 'graph'\n",
      "  'ability' 'limit' 'myth']\n",
      " ['well' 'kenyon' 'jane' 'assignment' 'dye' 'salvador' 'blast' 'deliver'\n",
      "  'variation' 'moon']\n",
      " ['alex' 'vietnamese' 'ocean' 'tambudzai' 'cop' 'martin' 'dory' 'lemony'\n",
      "  'education' 'buddhism']\n",
      " ['home' 'display' 'hug' 'train' 'method' 'touch' 'force' 'goblin'\n",
      "  'autism' 'companion']\n",
      " ['original' 'funny' 'literature' 'academic' 'interpretation' 'eve'\n",
      "  'greek' 'annotate' 'hip' 'tale']\n",
      " ['guralnick' 'cooke' 'version' 'wolff' 'event' 'official' 'peter'\n",
      "  'dream' 'car' 'flaw']\n",
      " ['man' 'body' 'female' 'orgasm' 'lawrence' 'pregnant' 'sexual' 'hilda'\n",
      "  'seem' 'immigrant']\n",
      " ['highet' 'school' 'teach' 'mathematics' 'theory' 'expert' 'engineer'\n",
      "  'art' 'evidence' 'test']\n",
      " ['prospero' 'eat' 'cook' 'diet' 'include' 'cookbook' 'fat' 'weight'\n",
      "  'healthy' 'miranda']\n",
      " ['social' 'europe' 'century' 'proust' 'romanian' 'law' 'industry' 'webb'\n",
      "  'richardson' 'eastern']\n",
      " ['race' 'white' 'james' 'plant' 'herb' 'garden' 'thurmond' 'photograph'\n",
      "  'mae' 'essie']\n",
      " ['social' 'consciousness' 'north' 'dickens' 'mrs' '100' 'grisham'\n",
      "  'imagery' 'depth' 'southern']\n",
      " ['discworld' 'hike' 'magic' 'wizard' 'hogfather' 'hansen' 'irene' 'leaf'\n",
      "  'pratchett' 'granny']\n",
      " ['movie' 'james' 'cancer' \"o'neill\" 'chuck' 'art' 'land' 'family'\n",
      "  'china' 'wang']\n",
      " ['truth' 'william' 'world' 'science' 'adso' 'though' 'dillard'\n",
      "  'theologian' 'ultimately' 'bernard']\n",
      " ['chee' 'philosophy' 'chinese' 'navajo' 'hillerman' 'pirsig' 'monkey'\n",
      "  'selection' 'thompson' 'robicheaux']\n",
      " ['artist' 'art' 'movement' 'quartet' 'client' 'nietzsche' 'poem' 'rock'\n",
      "  'christian' 'thinker']\n",
      " ['pyramid' 'helga' 'journey' 'fee' 'toad' 'fox' 'plant' 'almost'\n",
      "  'commentary' 'garland']\n",
      " ['arab' 'mcpherson' 'truth' 'potty' 'stage' 'battle' 'utterly' 'carroll'\n",
      "  'glain' 'hannah']\n",
      " ['holocaust' 'stephen' 'mile' 'plato' 'chris' 'joyce' 'brain' 'lennie'\n",
      "  'pair' 'leo']\n",
      " ['rachel' 'darcy' 'bach' 'phoenix' 'musical' 'scholarship'\n",
      "  'circumstance' 'encounter' 'van' 'sanchia']\n",
      " ['ellen' 'arch' 'cat' 'fieldwork' 'colleague' 'illness' 'somalia'\n",
      "  'psychotherapy' 'india' \"o'malley\"]\n",
      " ['organization' 'decision' 'customer' 'development' 'management'\n",
      "  'pattern' 'profit' 'market' 'software' 'provide']\n",
      " ['spiritual' 'spirituality' 'live' 'divine' 'john' 'tradition' 'cell'\n",
      "  'mystical' 'mccormicks' 'ray']\n",
      " ['infiltration' 'paul' 'xxiii' 'martha' 'daly' 'attorney' 'romani'\n",
      "  'moore' 'prefer' 'sperry']\n",
      " ['asher' 'red' 'army' 'man' 'account' 'hitler' 'german' 'soldier'\n",
      "  'abdulin' 'jews']\n",
      " ['harper' 'spirit' 'appeal' 'alex' 'lint' 'lily' 'patterson' 'roz'\n",
      "  'mary' 'wolf']\n",
      " ['thursday' 'round' 'piece' 'block' 'strip' 'racket' 'dean' 'jerry'\n",
      "  'jane' 'french']\n",
      " ['water' 'warm' 'clean' 'create' 'leader' 'ice' 'pearce' 'generation'\n",
      "  '500' 'art']\n",
      " ['pearl' 'ignore' 'craft' 'cholera' 'ariza' 'masterpiece' 'smell'\n",
      "  'husband' 'mature' 'primary']]\n"
     ]
    },
    {
     "data": {
      "image/png": "[encoded data removed]",
      "text/plain": [
       "<Figure size 432x288 with 1 Axes>"
      ]
     },
     "metadata": {
      "needs_background": "light"
     },
     "output_type": "display_data"
    }
   ],
   "source": [
    "K = 50\n",
    "alpha = 0.1\n",
    "beta = alpha\n",
    "\n",
    "word_topic_prob_01_50, log_lik_01_50 = LDA_Gibbs_Sampler(docs_int, vocab_size, K, it, alpha, beta, freqs)"
   ]
  },
  {
   "cell_type": "code",
   "execution_count": 129,
   "metadata": {
    "hidden": true
   },
   "outputs": [
    {
     "name": "stdout",
     "output_type": "stream",
     "text": [
      "[['religious' 'evidence' 'worship' 'dirk' 'claim' 'warn' 'computer'\n",
      "  'morton' 'probability' 'technology']\n",
      " ['mcginnis' 'mcdonald' 'nature' 'nightjohn' 'another' 'man' 'ethic'\n",
      "  'theory' 'slave' 'though']\n",
      " ['much' 'story' 'one' 'good' 'like' 'character' 'love' 'get' 'would'\n",
      "  'time']\n",
      " ['medium' 'team' 'reporter' 'aid' 'numb' 'wilson' 'steve' 'liberal'\n",
      "  'york' 'disaster']\n",
      " ['corp' 'hmong' 'culture' 'river' 'pakistan' 'ebay' 'critic' 'meaker'\n",
      "  'levee' 'katrina']\n",
      " ['community' 'historical' 'bible' 'pray' 'christian' 'vampire' 'pope'\n",
      "  'release' 'hal' 'prophecy']\n",
      " ['god' 'whitman' 'coast' 'captain' 'dick' 'literary' 'ash' 'poem' 'bud'\n",
      "  'weaver']\n",
      " ['mike' 'howard' 'conan' 'dozen' 'plague' 'horton' 'wyoh' 'anna'\n",
      "  'outstanding' 'colony']\n",
      " ['card' 'invest' 'rich' 'financial' 'success' 'oil' 'poor' 'gay'\n",
      "  'millionaire' 'message']\n",
      " ['testament' 'cameron' 'alpha' 'mann' 'dictionary' 'wolf' 'yapko'\n",
      "  'participant' 'power' 'foster']\n",
      " ['map' 'space' 'wine' 'security' 'historian' 'pack' 'trip' 'country'\n",
      "  'coelho' 'veronika']\n",
      " ['doug' 'bear' 'club' 'conflict' 'poorly' 'kind' 'destroy' 'folk'\n",
      "  'objective' 'evil']\n",
      " ['future' 'marvelous' 'sci' 'laura' 'max' 'london' 'simak' 'earth' 'dog'\n",
      "  'sprawl']\n",
      " ['america' 'political' 'country' 'military' 'government' 'president'\n",
      "  'show' 'power' 'society' 'u.s']\n",
      " ['valyan' 'doubt' 'french' 'twin' 'carl' 'passage' 'adult' 'niki' 'past'\n",
      "  'invent']\n",
      " ['adjust' 'anime' 'baseball' 'object' 'tutorial' 'site' 'wander'\n",
      "  'regardless' 'ackerman' 'bat']\n",
      " ['player' 'british' 'football' 'hell' 'high' 'group' 'ludlum' 'carry'\n",
      "  'american' 'poker']\n",
      " ['system' 'syllable' 'edition' 'malory' 'queene' 'dimension' 'faerie'\n",
      "  'mbti' 'probably' 'penguin']\n",
      " ['read' 'one' 'good' 'write' 'make' 'find' 'would' 'use' 'great' 'many']\n",
      " ['east' 'inform' 'species' 'bird' 'mexico' 'rome' 'recent' 'free' 'alot'\n",
      "  'livy']\n",
      " ['von' 'model' 'computer' 'intelligence' 'behavior' 'newmann' 'graph'\n",
      "  'ability' 'limit' 'myth']\n",
      " ['well' 'kenyon' 'jane' 'assignment' 'dye' 'salvador' 'blast' 'deliver'\n",
      "  'variation' 'moon']\n",
      " ['alex' 'vietnamese' 'ocean' 'tambudzai' 'cop' 'martin' 'dory' 'lemony'\n",
      "  'education' 'buddhism']\n",
      " ['home' 'display' 'hug' 'train' 'method' 'touch' 'force' 'goblin'\n",
      "  'autism' 'companion']\n",
      " ['original' 'funny' 'literature' 'academic' 'interpretation' 'eve'\n",
      "  'greek' 'annotate' 'hip' 'tale']\n",
      " ['guralnick' 'cooke' 'version' 'wolff' 'event' 'official' 'peter'\n",
      "  'dream' 'car' 'flaw']\n",
      " ['man' 'body' 'female' 'orgasm' 'lawrence' 'pregnant' 'sexual' 'hilda'\n",
      "  'seem' 'immigrant']\n",
      " ['highet' 'school' 'teach' 'mathematics' 'theory' 'expert' 'engineer'\n",
      "  'art' 'evidence' 'test']\n",
      " ['prospero' 'eat' 'cook' 'diet' 'include' 'cookbook' 'fat' 'weight'\n",
      "  'healthy' 'miranda']\n",
      " ['social' 'europe' 'century' 'proust' 'romanian' 'law' 'industry' 'webb'\n",
      "  'richardson' 'eastern']\n",
      " ['race' 'white' 'james' 'plant' 'herb' 'garden' 'thurmond' 'photograph'\n",
      "  'mae' 'essie']\n",
      " ['social' 'consciousness' 'north' 'dickens' 'mrs' '100' 'grisham'\n",
      "  'imagery' 'depth' 'southern']\n",
      " ['discworld' 'hike' 'magic' 'wizard' 'hogfather' 'hansen' 'irene' 'leaf'\n",
      "  'pratchett' 'granny']\n",
      " ['movie' 'james' 'cancer' \"o'neill\" 'chuck' 'art' 'land' 'family'\n",
      "  'china' 'wang']\n",
      " ['truth' 'william' 'world' 'science' 'adso' 'though' 'dillard'\n",
      "  'theologian' 'ultimately' 'bernard']\n",
      " ['chee' 'philosophy' 'chinese' 'navajo' 'hillerman' 'pirsig' 'monkey'\n",
      "  'selection' 'thompson' 'robicheaux']\n",
      " ['artist' 'art' 'movement' 'quartet' 'client' 'nietzsche' 'poem' 'rock'\n",
      "  'christian' 'thinker']\n",
      " ['pyramid' 'helga' 'journey' 'fee' 'toad' 'fox' 'plant' 'almost'\n",
      "  'commentary' 'garland']\n",
      " ['arab' 'mcpherson' 'truth' 'potty' 'stage' 'battle' 'utterly' 'carroll'\n",
      "  'glain' 'hannah']\n",
      " ['holocaust' 'stephen' 'mile' 'plato' 'chris' 'joyce' 'brain' 'lennie'\n",
      "  'pair' 'leo']\n",
      " ['rachel' 'darcy' 'bach' 'phoenix' 'musical' 'scholarship'\n",
      "  'circumstance' 'encounter' 'van' 'sanchia']\n",
      " ['ellen' 'arch' 'cat' 'fieldwork' 'colleague' 'illness' 'somalia'\n",
      "  'psychotherapy' 'india' \"o'malley\"]\n",
      " ['organization' 'decision' 'customer' 'development' 'management'\n",
      "  'pattern' 'profit' 'market' 'software' 'provide']\n",
      " ['spiritual' 'spirituality' 'live' 'divine' 'john' 'tradition' 'cell'\n",
      "  'mystical' 'mccormicks' 'ray']\n",
      " ['infiltration' 'paul' 'xxiii' 'martha' 'daly' 'attorney' 'romani'\n",
      "  'moore' 'prefer' 'sperry']\n",
      " ['asher' 'red' 'army' 'man' 'account' 'hitler' 'german' 'soldier'\n",
      "  'abdulin' 'jews']\n",
      " ['harper' 'spirit' 'appeal' 'alex' 'lint' 'lily' 'patterson' 'roz'\n",
      "  'mary' 'wolf']\n",
      " ['thursday' 'round' 'piece' 'block' 'strip' 'racket' 'dean' 'jerry'\n",
      "  'jane' 'french']\n",
      " ['water' 'warm' 'clean' 'create' 'leader' 'ice' 'pearce' 'generation'\n",
      "  '500' 'art']\n",
      " ['pearl' 'ignore' 'craft' 'cholera' 'ariza' 'masterpiece' 'smell'\n",
      "  'husband' 'mature' 'primary']]\n"
     ]
    }
   ],
   "source": [
    "show_words_by_topic(word_topic_prob_01_50, vocab, 10)"
   ]
  },
  {
   "cell_type": "code",
   "execution_count": 130,
   "metadata": {
    "collapsed": true,
    "hidden": true
   },
   "outputs": [
    {
     "data": {
      "image/png": "[encoded data removed]",
      "text/plain": [
       "<Figure size 432x288 with 1 Axes>"
      ]
     },
     "metadata": {
      "needs_background": "light"
     },
     "output_type": "display_data"
    }
   ],
   "source": [
    "plt.plot(range(0, it, 10), log_lik_01_50)\n",
    "plt.grid(True)\n",
    "plt.xlabel(\"Iteration\")\n",
    "plt.ylabel(\"Log likelihood\")\n",
    "plt.show()"
   ]
  },
  {
   "cell_type": "markdown",
   "metadata": {
    "heading_collapsed": true
   },
   "source": [
    "### 10 Topics, $\\alpha = \\beta = 0.01$"
   ]
  },
  {
   "cell_type": "code",
   "execution_count": 124,
   "metadata": {
    "collapsed": true,
    "hidden": true
   },
   "outputs": [
    {
     "name": "stdout",
     "output_type": "stream",
     "text": [
      "Iteration 0\n",
      "Likelihood -1068852.1747088158\n",
      "Iteration 10\n",
      "Likelihood -935907.679862206\n",
      "Iteration 20\n",
      "Likelihood -920018.5906413506\n",
      "Iteration 30\n",
      "Likelihood -912786.378300575\n",
      "Iteration 40\n",
      "Likelihood -907738.5022175435\n",
      "Iteration 50\n",
      "Likelihood -903531.5800999552\n",
      "Iteration 60\n",
      "Likelihood -900719.083867321\n",
      "Iteration 70\n",
      "Likelihood -898076.824728633\n",
      "Iteration 80\n",
      "Likelihood -896442.2705336084\n",
      "Iteration 90\n",
      "Likelihood -894831.5177883953\n",
      "Iteration 100\n",
      "Likelihood -893553.9327822812\n",
      "Iteration 110\n",
      "Likelihood -892101.2898480312\n",
      "Iteration 120\n",
      "Likelihood -890453.920928218\n",
      "Iteration 130\n",
      "Likelihood -889432.3339442007\n",
      "Iteration 140\n",
      "Likelihood -887899.1890265131\n",
      "Iteration 150\n",
      "Likelihood -886369.8357966606\n",
      "Iteration 160\n",
      "Likelihood -886076.8808425341\n",
      "Iteration 170\n",
      "Likelihood -885060.9975182969\n",
      "Iteration 180\n",
      "Likelihood -883802.7052039274\n",
      "Iteration 190\n",
      "Likelihood -883258.382819362\n",
      "Iteration 200\n",
      "Likelihood -882560.2420944609\n",
      "Iteration 210\n",
      "Likelihood -882017.2330215132\n",
      "Iteration 220\n",
      "Likelihood -881775.2706920732\n",
      "Iteration 230\n",
      "Likelihood -880369.5428264086\n",
      "Iteration 240\n",
      "Likelihood -879818.7384891668\n",
      "Iteration 250\n",
      "Likelihood -879696.2389121616\n",
      "Iteration 260\n",
      "Likelihood -878323.4311522014\n",
      "Iteration 270\n",
      "Likelihood -877896.4127506287\n",
      "Iteration 280\n",
      "Likelihood -877926.4019042706\n",
      "Iteration 290\n",
      "Likelihood -877817.6730551516\n",
      "Iteration 300\n",
      "Likelihood -877193.6733150696\n",
      "Iteration 310\n",
      "Likelihood -876870.6680766053\n",
      "Iteration 320\n",
      "Likelihood -876486.8968945398\n",
      "Iteration 330\n",
      "Likelihood -876082.5066746493\n",
      "Iteration 340\n",
      "Likelihood -875592.2101850735\n",
      "Iteration 350\n",
      "Likelihood -875208.8431322002\n",
      "Iteration 360\n",
      "Likelihood -874690.7588996355\n",
      "Iteration 370\n",
      "Likelihood -875016.9032196255\n",
      "Iteration 380\n",
      "Likelihood -874707.7838794197\n",
      "Iteration 390\n",
      "Likelihood -873955.5201648474\n",
      "Elapsed time:  2185.8785858154297\n",
      "[['like' 'say' 'author' 'one' 'get' 'much' 'even' 'know' 'see' 'make']\n",
      " ['sam' 'family' 'novel' 'death' 'take' 'old' 'year' 'love' 'character'\n",
      "  'live']\n",
      " ['character' 'work' 'love' 'one' 'series' 'world' 'plot' 'fiction'\n",
      "  'tale' 'mystery']\n",
      " ['real' 'include' 'food' 'day' 'erica' 'year' 'three' 'mention' 'eat'\n",
      "  'cook']\n",
      " ['world' 'much' '' 'great' 'live' 'self' 'many' 'people' 'experience'\n",
      "  'work']\n",
      " ['man' 'love' 'god' 'play' 'one' 'make' 'also' 'doe' 'become' 'another']\n",
      " ['good' 'use' 'read' 'make' 'great' 'work' 'would' 'take' 'think' 'also']\n",
      " ['write' 'much' 'read' 'time' 'many' 'little' 'reader' 'find' 'good'\n",
      "  'work']\n",
      " ['much' 'one' 'good' 'would' 'like' 'get' 'find' 'time' 'well' 'write']\n",
      " ['human' 'american' 'world' 'much' 'state' 'account' 'interest' 'show'\n",
      "  'power' 'understand']]\n"
     ]
    },
    {
     "data": {
      "image/png": "[encoded data removed]",
      "text/plain": [
       "<Figure size 432x288 with 1 Axes>"
      ]
     },
     "metadata": {
      "needs_background": "light"
     },
     "output_type": "display_data"
    }
   ],
   "source": [
    "K = 10\n",
    "alpha = 0.01\n",
    "beta = alpha\n",
    "\n",
    "word_topic_prob_001_10, log_lik_001_10 = LDA_Gibbs_Sampler(docs_int, vocab_size, K, it, alpha, beta, freqs)"
   ]
  },
  {
   "cell_type": "code",
   "execution_count": 131,
   "metadata": {
    "collapsed": true,
    "hidden": true
   },
   "outputs": [
    {
     "name": "stdout",
     "output_type": "stream",
     "text": [
      "[['like' 'say' 'author' 'one' 'get' 'much' 'even' 'know' 'see' 'make']\n",
      " ['sam' 'family' 'novel' 'death' 'take' 'old' 'year' 'love' 'character'\n",
      "  'live']\n",
      " ['character' 'work' 'love' 'one' 'series' 'world' 'plot' 'fiction'\n",
      "  'tale' 'mystery']\n",
      " ['real' 'include' 'food' 'day' 'erica' 'year' 'three' 'mention' 'eat'\n",
      "  'cook']\n",
      " ['world' 'much' '' 'great' 'live' 'self' 'many' 'people' 'experience'\n",
      "  'work']\n",
      " ['man' 'love' 'god' 'play' 'one' 'make' 'also' 'doe' 'become' 'another']\n",
      " ['good' 'use' 'read' 'make' 'great' 'work' 'would' 'take' 'think' 'also']\n",
      " ['write' 'much' 'read' 'time' 'many' 'little' 'reader' 'find' 'good'\n",
      "  'work']\n",
      " ['much' 'one' 'good' 'would' 'like' 'get' 'find' 'time' 'well' 'write']\n",
      " ['human' 'american' 'world' 'much' 'state' 'account' 'interest' 'show'\n",
      "  'power' 'understand']]\n"
     ]
    }
   ],
   "source": [
    "show_words_by_topic(word_topic_prob_001_10, vocab, 10)"
   ]
  },
  {
   "cell_type": "code",
   "execution_count": 132,
   "metadata": {
    "collapsed": true,
    "hidden": true
   },
   "outputs": [
    {
     "data": {
      "image/png": "[encoded data removed]",
      "text/plain": [
       "<Figure size 432x288 with 1 Axes>"
      ]
     },
     "metadata": {
      "needs_background": "light"
     },
     "output_type": "display_data"
    }
   ],
   "source": [
    "plt.plot(range(0, it, 10), log_lik_001_10)\n",
    "plt.grid(True)\n",
    "plt.xlabel(\"Iteration\")\n",
    "plt.ylabel(\"Log likelihood\")\n",
    "plt.show()"
   ]
  },
  {
   "cell_type": "markdown",
   "metadata": {
    "heading_collapsed": true
   },
   "source": [
    "### 50 Topics, $\\alpha = \\beta = 0.01$"
   ]
  },
  {
   "cell_type": "code",
   "execution_count": 125,
   "metadata": {
    "collapsed": true,
    "hidden": true
   },
   "outputs": [
    {
     "name": "stdout",
     "output_type": "stream",
     "text": [
      "Iteration 0\n",
      "Likelihood -1190341.111029679\n",
      "Iteration 10\n",
      "Likelihood -950401.2821342411\n",
      "Iteration 20\n",
      "Likelihood -927367.9264104791\n",
      "Iteration 30\n",
      "Likelihood -917806.0971874195\n",
      "Iteration 40\n",
      "Likelihood -911120.8866987126\n",
      "Iteration 50\n",
      "Likelihood -906899.6797617208\n",
      "Iteration 60\n",
      "Likelihood -903555.7031819011\n",
      "Iteration 70\n",
      "Likelihood -900429.6007665116\n",
      "Iteration 80\n",
      "Likelihood -897869.6554888989\n",
      "Iteration 90\n",
      "Likelihood -894549.8423284735\n",
      "Iteration 100\n",
      "Likelihood -893586.4005781844\n",
      "Iteration 110\n",
      "Likelihood -892401.8520005256\n",
      "Iteration 120\n",
      "Likelihood -891057.567225403\n",
      "Iteration 130\n",
      "Likelihood -889910.6543435233\n",
      "Iteration 140\n",
      "Likelihood -888308.3497488376\n",
      "Iteration 150\n",
      "Likelihood -887279.2544167578\n",
      "Iteration 160\n",
      "Likelihood -885880.0628348708\n",
      "Iteration 170\n",
      "Likelihood -884349.6007468438\n",
      "Iteration 180\n",
      "Likelihood -883633.8959385153\n",
      "Iteration 190\n",
      "Likelihood -882571.7150303713\n",
      "Iteration 200\n",
      "Likelihood -882349.1190868967\n",
      "Iteration 210\n",
      "Likelihood -881592.7386724561\n",
      "Iteration 220\n",
      "Likelihood -880876.0226334232\n",
      "Iteration 230\n",
      "Likelihood -879744.4305179231\n",
      "Iteration 240\n",
      "Likelihood -879013.6171134313\n",
      "Iteration 250\n",
      "Likelihood -879222.7612187567\n",
      "Iteration 260\n",
      "Likelihood -878028.1257931831\n",
      "Iteration 270\n",
      "Likelihood -878016.2441941416\n",
      "Iteration 280\n",
      "Likelihood -876558.4816382931\n",
      "Iteration 290\n",
      "Likelihood -876302.762198798\n",
      "Iteration 300\n",
      "Likelihood -876178.7568094749\n",
      "Iteration 310\n",
      "Likelihood -875960.7803709222\n",
      "Iteration 320\n",
      "Likelihood -875405.4251510699\n",
      "Iteration 330\n",
      "Likelihood -874821.8091847048\n",
      "Iteration 340\n",
      "Likelihood -873459.5196462031\n",
      "Iteration 350\n",
      "Likelihood -873238.296257033\n",
      "Iteration 360\n",
      "Likelihood -872824.9668516145\n",
      "Iteration 370\n",
      "Likelihood -871760.0462075585\n",
      "Iteration 380\n",
      "Likelihood -871561.232878987\n",
      "Iteration 390\n",
      "Likelihood -871765.1973961429\n",
      "Elapsed time:  2265.735425710678\n",
      "[['much' 'good' 'like' 'write' 'give' 'get' 'make' 'great' 'love' 'one']\n",
      " ['need' 'figure' 'oil' 'place' 'fan' 'must' 'every' 'god' '' 'change']\n",
      " ['faith' 'transformation' 'never' 'community' 'social' 'dimension'\n",
      "  'brilliant' 'europe' 'snake' '....']\n",
      " ['doe' 'take' 'hundred' 'note' 'set' 'greek' 'anne' 'upon' 'british'\n",
      "  'classic']\n",
      " ['military' 'political' 'much' 'soviet' 'show' 'america' 'bush'\n",
      "  'vietnam' 'world' 'country']\n",
      " ['school' 'young' 'love' 'see' 'year' 'old' 'adult' 'kid' 'one' 'parent']\n",
      " ['use' 'plant' 'another' 'common' 'real' 'illustration' 'color' 'plan'\n",
      "  'pattern' 'provide']\n",
      " ['experience' 'personal' 'offer' 'spiritual' 'family' 'use' 'grow'\n",
      "  'dream' 'land' 'race']\n",
      " ['read' 'know' 'one' 'time' 'today' 'take' 'make' 'believe' 'life'\n",
      "  'want']\n",
      " ['reader' 'interest' 'piece' 'culture' 'one' 'west' 'use' 'part'\n",
      "  'english' 'language']\n",
      " ['translation' 'original' 'rise' 'vampire' 'master' 'full' 'name'\n",
      "  'chinese' 'heaven' 'word']\n",
      " ['collection' 'gibbon' 'make' 'without' 'yet' 'new' 'drug' 'problem'\n",
      "  'global' 'security']\n",
      " ['javascript' 'reader' 'spenser' 'see' 'roberts' 'nora' 'line'\n",
      "  'syllable' 'malory' 'reference']\n",
      " ['find' 'read' 'home' 'well' 'much' 'library' 'copy' 'buy' 'love'\n",
      "  'really']\n",
      " ['norris' 'artist' 'art' 'world' 'rich' 'problem' 'life' 'asher'\n",
      "  'estate' 'school']\n",
      " ['read' 'one' 'great' 'well' 'much' 'like' 'make' 'play' 'want' 'story']\n",
      " ['reference' 'world' 'player' 'reader' 'cultural' 'also' 'subject'\n",
      "  'include' '' 'essential']\n",
      " ['great' 'character' 'become' 'make' 'never' 'writer' 'reader' 'love'\n",
      "  'true' 'feel']\n",
      " ['problem' 'would' 'example' 'high' 'make' 'world' 'one' 'theory'\n",
      "  'education' 'provide']\n",
      " ['historical' 'doe' 'use' 'take' 'important' 'place' 'church'\n",
      "  'understand' 'interest' 'see']\n",
      " ['doe' 'god' 'play' 'magic' 'son' 'young' 'man' 'two' 'rule' 'another']\n",
      " ['horse' 'another' 'experience' 'person' 'modern' 'darwin' 'account'\n",
      "  'theory' 'man' 'nature']\n",
      " ['good' 'many' 'one' 'find' 'make' 'would' 'work' 'also' 'doe' 'like']\n",
      " ['excellent' 'also' 'service' 'continue' 'recommend' 'enjoy' 'perhaps'\n",
      "  'discover' 'young' 'social']\n",
      " ['eat' 'cook' 'diet' 'meal' 'include' 'weight' 'cookbook' 'fat'\n",
      "  'healthy' 'ingredient']\n",
      " ['use' 'good' 'help' 'work' 'need' 'understand' 'way' 'easy' 'much'\n",
      "  'information']\n",
      " ['seem' 'sex' 'way' 'side' 'almost' 'much' 'doe' 'without' 'everything'\n",
      "  'message']\n",
      " ['show' 'star' 'high' 'listen' 'laugh' 'meet' 'whelan' 'entertain'\n",
      "  'scene' 'new']\n",
      " ['also' 'man' 'one' 'force' 'expert' 'hold' 'include' 'learn' 'view'\n",
      "  'yet']\n",
      " ['story' 'reader' 'many' 'plot' 'work' 'age' 'writer' 'become'\n",
      "  'anything' 'fiction']\n",
      " ['mention' 'aspect' 'begin' 'volume' 'late' 'however' 'explain' 'last'\n",
      "  'repeat' 'doug']\n",
      " ['much' 'read' 'good' 'story' 'one' 'would' 'author' 'time' 'end'\n",
      "  'interest']\n",
      " ['work' 'line' 'mean' \"o'neill\" 'poem' 'day' 'add' 'light' 'music'\n",
      "  'collection']\n",
      " ['live' 'include' 'career' 'wilson' 'harper' 'new' 'steve' 'guide'\n",
      "  'mexico' 'morton']\n",
      " ['actually' 'british' 'mention' 'part' 'much' 'leaphorn' 'quite' 'chee'\n",
      "  'short' 'fun']\n",
      " ['james' 'young' 'cross' 'boat' 'late' 'south' 'henry' 'fish' 'know'\n",
      "  'relationship']\n",
      " ['research' 'scientific' 'society' 'social' 'case' 'major' 'order'\n",
      "  'group' 'science' 'reader']\n",
      " ['world' 'man' 'live' 'take' 'family' 'tale' 'much' 'death' 'heart'\n",
      "  'people']\n",
      " ['machine' 'ancient' 'truth' 'brain' 'idea' 'think' 'model' 'reason'\n",
      "  'self' 'von']\n",
      " ['include' 'since' 'course' 'john' 'try' 'seem' 'title' 'year' 'three'\n",
      "  'never']\n",
      " ['much' 'student' 'think' 'work' 'understand' 'teacher' 'modern'\n",
      "  'philosophy' 'good' 'power']\n",
      " ['woman' 'age' 'nothing' 'talk' 'god' 'experience' 'say' 'music'\n",
      "  'reviewer' 'pregnant']\n",
      " ['new' 'battle' 'medium' 'report' 'george' 'thing' 'aid' 'survive'\n",
      "  'quote' 'state']\n",
      " ['read' 'one' 'get' 'good' 'like' 'would' 'make' 'say' 'know' 'time']\n",
      " ['old' 'ask' 'train' 'girl' 'john' 'call' 'real' 'evidence' 'last'\n",
      "  'child']\n",
      " ['one' 'mcginnis' 'mcdonald' 'foreign' 'american' 'century' 'elbow'\n",
      "  'state' 'kissinger' 'believe']\n",
      " ['character' 'erica' 'reader' 'case' 'valyan' 'close' 'alex' 'four'\n",
      "  'cop' 'see']\n",
      " ['mother' 'family' 'boy' 'learn' 'grow' 'father' 'name' 'want' 'man'\n",
      "  'die']\n",
      " ['work' 'biography' 'century' 'guralnick' 'cooke' 'know' 'literary'\n",
      "  'event' 'regard' 'peter']\n",
      " ['adventure' 'year' 'original' 'become' 'volume' 'house' 'series' 'jack'\n",
      "  'garden' 'mystery']]\n"
     ]
    },
    {
     "data": {
      "image/png": "[encoded data removed]",
      "text/plain": [
       "<Figure size 432x288 with 1 Axes>"
      ]
     },
     "metadata": {
      "needs_background": "light"
     },
     "output_type": "display_data"
    }
   ],
   "source": [
    "K = 50\n",
    "alpha = 0.01\n",
    "beta = alpha\n",
    "\n",
    "word_topic_prob_001_50, log_lik_001_50 = LDA_Gibbs_Sampler(docs_int, vocab_size, K, it, alpha, beta, freqs)"
   ]
  },
  {
   "cell_type": "code",
   "execution_count": 133,
   "metadata": {
    "collapsed": true,
    "hidden": true
   },
   "outputs": [
    {
     "name": "stdout",
     "output_type": "stream",
     "text": [
      "[['much' 'good' 'like' 'write' 'give' 'get' 'make' 'great' 'love' 'one']\n",
      " ['need' 'figure' 'oil' 'place' 'fan' 'must' 'every' 'god' '' 'change']\n",
      " ['faith' 'transformation' 'never' 'community' 'social' 'dimension'\n",
      "  'brilliant' 'europe' 'snake' '....']\n",
      " ['doe' 'take' 'hundred' 'note' 'set' 'greek' 'anne' 'upon' 'british'\n",
      "  'classic']\n",
      " ['military' 'political' 'much' 'soviet' 'show' 'america' 'bush'\n",
      "  'vietnam' 'world' 'country']\n",
      " ['school' 'young' 'love' 'see' 'year' 'old' 'adult' 'kid' 'one' 'parent']\n",
      " ['use' 'plant' 'another' 'common' 'real' 'illustration' 'color' 'plan'\n",
      "  'pattern' 'provide']\n",
      " ['experience' 'personal' 'offer' 'spiritual' 'family' 'use' 'grow'\n",
      "  'dream' 'land' 'race']\n",
      " ['read' 'know' 'one' 'time' 'today' 'take' 'make' 'believe' 'life'\n",
      "  'want']\n",
      " ['reader' 'interest' 'piece' 'culture' 'one' 'west' 'use' 'part'\n",
      "  'english' 'language']\n",
      " ['translation' 'original' 'rise' 'vampire' 'master' 'full' 'name'\n",
      "  'chinese' 'heaven' 'word']\n",
      " ['collection' 'gibbon' 'make' 'without' 'yet' 'new' 'drug' 'problem'\n",
      "  'global' 'security']\n",
      " ['javascript' 'reader' 'spenser' 'see' 'roberts' 'nora' 'line'\n",
      "  'syllable' 'malory' 'reference']\n",
      " ['find' 'read' 'home' 'well' 'much' 'library' 'copy' 'buy' 'love'\n",
      "  'really']\n",
      " ['norris' 'artist' 'art' 'world' 'rich' 'problem' 'life' 'asher'\n",
      "  'estate' 'school']\n",
      " ['read' 'one' 'great' 'well' 'much' 'like' 'make' 'play' 'want' 'story']\n",
      " ['reference' 'world' 'player' 'reader' 'cultural' 'also' 'subject'\n",
      "  'include' '' 'essential']\n",
      " ['great' 'character' 'become' 'make' 'never' 'writer' 'reader' 'love'\n",
      "  'true' 'feel']\n",
      " ['problem' 'would' 'example' 'high' 'make' 'world' 'one' 'theory'\n",
      "  'education' 'provide']\n",
      " ['historical' 'doe' 'use' 'take' 'important' 'place' 'church'\n",
      "  'understand' 'interest' 'see']\n",
      " ['doe' 'god' 'play' 'magic' 'son' 'young' 'man' 'two' 'rule' 'another']\n",
      " ['horse' 'another' 'experience' 'person' 'modern' 'darwin' 'account'\n",
      "  'theory' 'man' 'nature']\n",
      " ['good' 'many' 'one' 'find' 'make' 'would' 'work' 'also' 'doe' 'like']\n",
      " ['excellent' 'also' 'service' 'continue' 'recommend' 'enjoy' 'perhaps'\n",
      "  'discover' 'young' 'social']\n",
      " ['eat' 'cook' 'diet' 'meal' 'include' 'weight' 'cookbook' 'fat'\n",
      "  'healthy' 'ingredient']\n",
      " ['use' 'good' 'help' 'work' 'need' 'understand' 'way' 'easy' 'much'\n",
      "  'information']\n",
      " ['seem' 'sex' 'way' 'side' 'almost' 'much' 'doe' 'without' 'everything'\n",
      "  'message']\n",
      " ['show' 'star' 'high' 'listen' 'laugh' 'meet' 'whelan' 'entertain'\n",
      "  'scene' 'new']\n",
      " ['also' 'man' 'one' 'force' 'expert' 'hold' 'include' 'learn' 'view'\n",
      "  'yet']\n",
      " ['story' 'reader' 'many' 'plot' 'work' 'age' 'writer' 'become'\n",
      "  'anything' 'fiction']\n",
      " ['mention' 'aspect' 'begin' 'volume' 'late' 'however' 'explain' 'last'\n",
      "  'repeat' 'doug']\n",
      " ['much' 'read' 'good' 'story' 'one' 'would' 'author' 'time' 'end'\n",
      "  'interest']\n",
      " ['work' 'line' 'mean' \"o'neill\" 'poem' 'day' 'add' 'light' 'music'\n",
      "  'collection']\n",
      " ['live' 'include' 'career' 'wilson' 'harper' 'new' 'steve' 'guide'\n",
      "  'mexico' 'morton']\n",
      " ['actually' 'british' 'mention' 'part' 'much' 'leaphorn' 'quite' 'chee'\n",
      "  'short' 'fun']\n",
      " ['james' 'young' 'cross' 'boat' 'late' 'south' 'henry' 'fish' 'know'\n",
      "  'relationship']\n",
      " ['research' 'scientific' 'society' 'social' 'case' 'major' 'order'\n",
      "  'group' 'science' 'reader']\n",
      " ['world' 'man' 'live' 'take' 'family' 'tale' 'much' 'death' 'heart'\n",
      "  'people']\n",
      " ['machine' 'ancient' 'truth' 'brain' 'idea' 'think' 'model' 'reason'\n",
      "  'self' 'von']\n",
      " ['include' 'since' 'course' 'john' 'try' 'seem' 'title' 'year' 'three'\n",
      "  'never']\n",
      " ['much' 'student' 'think' 'work' 'understand' 'teacher' 'modern'\n",
      "  'philosophy' 'good' 'power']\n",
      " ['woman' 'age' 'nothing' 'talk' 'god' 'experience' 'say' 'music'\n",
      "  'reviewer' 'pregnant']\n",
      " ['new' 'battle' 'medium' 'report' 'george' 'thing' 'aid' 'survive'\n",
      "  'quote' 'state']\n",
      " ['read' 'one' 'get' 'good' 'like' 'would' 'make' 'say' 'know' 'time']\n",
      " ['old' 'ask' 'train' 'girl' 'john' 'call' 'real' 'evidence' 'last'\n",
      "  'child']\n",
      " ['one' 'mcginnis' 'mcdonald' 'foreign' 'american' 'century' 'elbow'\n",
      "  'state' 'kissinger' 'believe']\n",
      " ['character' 'erica' 'reader' 'case' 'valyan' 'close' 'alex' 'four'\n",
      "  'cop' 'see']\n",
      " ['mother' 'family' 'boy' 'learn' 'grow' 'father' 'name' 'want' 'man'\n",
      "  'die']\n",
      " ['work' 'biography' 'century' 'guralnick' 'cooke' 'know' 'literary'\n",
      "  'event' 'regard' 'peter']\n",
      " ['adventure' 'year' 'original' 'become' 'volume' 'house' 'series' 'jack'\n",
      "  'garden' 'mystery']]\n"
     ]
    }
   ],
   "source": [
    "show_words_by_topic(word_topic_prob_001_50, vocab, 10)"
   ]
  },
  {
   "cell_type": "code",
   "execution_count": 134,
   "metadata": {
    "collapsed": true,
    "hidden": true
   },
   "outputs": [
    {
     "data": {
      "image/png": "[encoded data removed]",
      "text/plain": [
       "<Figure size 432x288 with 1 Axes>"
      ]
     },
     "metadata": {
      "needs_background": "light"
     },
     "output_type": "display_data"
    }
   ],
   "source": [
    "plt.plot(range(0, it, 10), log_lik_001_50)\n",
    "plt.grid(True)\n",
    "plt.xlabel(\"Iteration\")\n",
    "plt.ylabel(\"Log likelihood\")\n",
    "plt.show()"
   ]
  },
  {
   "cell_type": "markdown",
   "metadata": {},
   "source": [
    "### Save results as csv"
   ]
  },
  {
   "cell_type": "code",
   "execution_count": 126,
   "metadata": {},
   "outputs": [],
   "source": [
    "np.savetxt(\"nzw_01_10.csv\", word_topic_prob_01_10, delimiter=\",\")\n",
    "np.savetxt(\"nzw_01_50.csv\", word_topic_prob_01_50, delimiter=\",\")\n",
    "np.savetxt(\"nzw_001_10.csv\", word_topic_prob_001_10, delimiter=\",\")\n",
    "np.savetxt(\"nzw_001_50.csv\", word_topic_prob_001_50, delimiter=\",\")"
   ]
  },
  {
   "cell_type": "markdown",
   "metadata": {},
   "source": [
    "# 2 - Bigram LDA"
   ]
  },
  {
   "cell_type": "code",
   "execution_count": 207,
   "metadata": {},
   "outputs": [],
   "source": [
    "def count_bigram_topics(topics, docs_int):\n",
    "    \n",
    "    topic_counter = defaultdict(Counter)\n",
    "    \n",
    "    for d, line in enumerate(docs_int):\n",
    "        \n",
    "        for i, (w_1, w_2) in enumerate(zip(line, line[1:])):\n",
    "            \n",
    "            # Retrieve the topic of the second word\n",
    "            z = topics[(d, i+1)]\n",
    "            \n",
    "            topic_counter[(w_1, w_2)][z] += 1\n",
    "        \n",
    "    return topic_counter"
   ]
  },
  {
   "cell_type": "code",
   "execution_count": 211,
   "metadata": {},
   "outputs": [],
   "source": [
    "def cond_prob_bigram(w_prev, w, d, ndz, nzw, alpha, beta, bigram_topics):\n",
    "    \n",
    "    n_topics = ndz.shape[1]\n",
    "    voc_size = nzw.shape[1]\n",
    "    p_z = np.zeros(n_topics)\n",
    "\n",
    "    for k in range(n_topics):\n",
    "        left = ( bigram_topics[(w_prev, w)][k] + beta )/( nzw[k, w_prev + 1] + beta*voc_size)\n",
    "        right = ( ndz[d,k] + alpha )\n",
    "\n",
    "        p_z[k] = left*right\n",
    "\n",
    "    p_z /= sum(p_z)\n",
    "    return p_z"
   ]
  },
  {
   "cell_type": "code",
   "execution_count": 242,
   "metadata": {},
   "outputs": [],
   "source": [
    "def run_bigram_LDA(docs_int, max_iterations, alpha, beta, n_topics):\n",
    "\n",
    "    start_time = time.time()\n",
    "    \n",
    "    topics, ndz, nzw, nd, nz = initialize_lda(docs_int, freqs, n_topics)\n",
    "    bigram_topics = count_bigram_topics(topics, docs_int)\n",
    "\n",
    "    for i in range(max_iterations):\n",
    "        for d, line in enumerate(docs_int):\n",
    "            for j, w in enumerate(line):\n",
    "                \n",
    "                # can't use the first word in a document - there's no previous word for the bigram\n",
    "                if j > 0:\n",
    "\n",
    "                    z = topics[(d, j)]\n",
    "                    ndz[d, z] -= 1\n",
    "                    nzw[z, w] -= 1\n",
    "                    nd[d] -= 1\n",
    "                    nz[z] -= 1\n",
    "\n",
    "                    # preceding word in the bigram   \n",
    "                    w_prev = line[j-1]\n",
    "\n",
    "                    bigram_topics[(w_prev, w)][z] -= 1\n",
    "                    p_z = cond_prob_bigram(w_prev, w, d, ndz, nzw, alpha, beta, bigram_topics)\n",
    "                    z = rd.multinomial(1, p_z).argmax()\n",
    "\n",
    "                    ndz[d,z] += 1\n",
    "                    nzw[z,w] += 1\n",
    "                    nd[d] += 1\n",
    "                    nz[z] += 1\n",
    "                    topics[(d, j)] = z\n",
    "\n",
    "                    bigram_topics[(w_prev, w)][z] += 1\n",
    "\n",
    "        if i % 10 == 0: \n",
    "            print(\"Iteration\", i)\n",
    "\n",
    "    elapsed_time = time.time() - start_time\n",
    "    print(\"Elapsed time: \", elapsed_time)\n",
    "\n",
    "    return nzw"
   ]
  },
  {
   "cell_type": "code",
   "execution_count": 239,
   "metadata": {},
   "outputs": [
    {
     "data": {
      "text/plain": [
       "Counter({4: 4, 0: 3, 7: 2, 2: 2, 9: 5, 8: 6, 5: 2, 3: 4, 1: 3, 6: 2})"
      ]
     },
     "execution_count": 239,
     "metadata": {},
     "output_type": "execute_result"
    }
   ],
   "source": [
    "bigram_topics = count_bigram_topics(topics, docs_int)\n",
    "bigram_topics[(0, 1)]"
   ]
  },
  {
   "cell_type": "markdown",
   "metadata": {},
   "source": [
    "### 5 Topics, $\\alpha$ = $\\beta$ = 0.1"
   ]
  },
  {
   "cell_type": "code",
   "execution_count": 243,
   "metadata": {},
   "outputs": [
    {
     "name": "stdout",
     "output_type": "stream",
     "text": [
      "Iteration 0\n",
      "Iteration 10\n",
      "Iteration 20\n",
      "Iteration 30\n",
      "Iteration 40\n",
      "Iteration 50\n",
      "Iteration 60\n",
      "Iteration 70\n",
      "Iteration 80\n",
      "Iteration 90\n",
      "Iteration 100\n",
      "Iteration 110\n",
      "Iteration 120\n",
      "Iteration 130\n",
      "Iteration 140\n",
      "Iteration 150\n",
      "Iteration 160\n",
      "Iteration 170\n",
      "Iteration 180\n",
      "Iteration 190\n",
      "Elapsed time:  1420.5678217411041\n"
     ]
    }
   ],
   "source": [
    "alpha = 0.1\n",
    "beta = alpha\n",
    "n_topics = 5\n",
    "max_iterations = 200\n",
    "\n",
    "bigram_prob_01_5 = run_bigram_LDA(docs_int, max_iterations, alpha, beta, n_topics)"
   ]
  },
  {
   "cell_type": "code",
   "execution_count": 244,
   "metadata": {},
   "outputs": [
    {
     "name": "stdout",
     "output_type": "stream",
     "text": [
      "[['good' 'read' 'much' 'find' 'novel' 'really' 'think' 'love' 'interest'\n",
      "  'great']\n",
      " ['read' 'one' 'good' 'like' 'write' 'would' 'make' 'time' 'story' 'find']\n",
      " ['good' 'much' 'one' 'great' 'story' 'like' 'love' 'get' 'interest'\n",
      "  'woman']\n",
      " ['read' 'find' 'one' 'think' 'great' 'work' 'end' 'even' 'really' 'many']\n",
      " ['great' 'find' 'one' 'much' 'love' 'think' 'see' 'good' 'make' 'start']]\n"
     ]
    }
   ],
   "source": [
    "show_words_by_topic(bigram_prob_01_5, vocab, 10)"
   ]
  },
  {
   "cell_type": "markdown",
   "metadata": {},
   "source": [
    "### 10 Topics, $\\alpha$ = $\\beta$ = 0.1"
   ]
  },
  {
   "cell_type": "code",
   "execution_count": 245,
   "metadata": {},
   "outputs": [
    {
     "name": "stdout",
     "output_type": "stream",
     "text": [
      "Iteration 0\n",
      "Iteration 10\n",
      "Iteration 20\n",
      "Iteration 30\n",
      "Iteration 40\n",
      "Iteration 50\n",
      "Iteration 60\n",
      "Iteration 70\n",
      "Iteration 80\n",
      "Iteration 90\n",
      "Iteration 100\n",
      "Iteration 110\n",
      "Iteration 120\n",
      "Iteration 130\n",
      "Iteration 140\n",
      "Iteration 150\n",
      "Iteration 160\n",
      "Iteration 170\n",
      "Iteration 180\n",
      "Iteration 190\n",
      "Elapsed time:  1553.2429900169373\n"
     ]
    }
   ],
   "source": [
    "alpha = 0.1\n",
    "beta = alpha\n",
    "n_topics = 10\n",
    "\n",
    "bigram_prob_01_10 = run_bigram_LDA(docs_int, max_iterations, alpha, beta, n_topics)"
   ]
  },
  {
   "cell_type": "code",
   "execution_count": 246,
   "metadata": {},
   "outputs": [
    {
     "name": "stdout",
     "output_type": "stream",
     "text": [
      "[['good' 'story' 'love' 'great' 'long' 'woman' 'wonderful' 'much' 'start'\n",
      "  'find']\n",
      " ['make' 'life' 'great' 'write' 'novel' 'love' 'right' 'global' 'story'\n",
      "  'time']\n",
      " ['read' 'story' 'much' 'good' 'think' 'find' 'would' 'great' 'get'\n",
      "  'year']\n",
      " ['read' 'one' 'good' 'like' 'would' 'write' 'make' 'time' 'story' 'find']\n",
      " ['one' 'great' 'work' 'get' 'good' 'write' 'make' 'become' 'like'\n",
      "  'really']\n",
      " ['good' 'much' 'many' 'read' 'use' 'must' 'story' 'find' 'even' 'enjoy']\n",
      " ['one' 'little' 'really' 'would' 'work' 'think' 'great' 'excellent'\n",
      "  'live' 'hear']\n",
      " ['much' 'read' 'great' 'say' 'author' 'many' 'find' 'even' 'make' 'one']\n",
      " ['read' 'good' 'find' 'great' 'work' 'use' 'write' 'make' 'story' 'long']\n",
      " ['read' 'good' 'like' 'one' 'write' 'two' 'character' 'keep' 'think'\n",
      "  'well']]\n"
     ]
    }
   ],
   "source": [
    "show_words_by_topic(bigram_prob_01_10, vocab, 10)"
   ]
  },
  {
   "cell_type": "markdown",
   "metadata": {},
   "source": [
    "### 5 Topics, $\\alpha$ = $\\beta$ = 0.01"
   ]
  },
  {
   "cell_type": "code",
   "execution_count": 247,
   "metadata": {},
   "outputs": [
    {
     "name": "stdout",
     "output_type": "stream",
     "text": [
      "Iteration 0\n",
      "Iteration 10\n",
      "Iteration 20\n",
      "Iteration 30\n",
      "Iteration 40\n",
      "Iteration 50\n",
      "Iteration 60\n",
      "Iteration 70\n",
      "Iteration 80\n",
      "Iteration 90\n",
      "Iteration 100\n",
      "Iteration 110\n",
      "Iteration 120\n",
      "Iteration 130\n",
      "Iteration 140\n",
      "Iteration 150\n",
      "Iteration 160\n",
      "Iteration 170\n",
      "Iteration 180\n",
      "Iteration 190\n",
      "Elapsed time:  1364.184497833252\n"
     ]
    }
   ],
   "source": [
    "alpha = 0.01\n",
    "beta = alpha\n",
    "n_topics = 5\n",
    "\n",
    "bigram_prob_001_5 = run_bigram_LDA(docs_int, max_iterations, alpha, beta, n_topics)"
   ]
  },
  {
   "cell_type": "code",
   "execution_count": 248,
   "metadata": {},
   "outputs": [
    {
     "name": "stdout",
     "output_type": "stream",
     "text": [
      "[['one' 'good' 'read' 'find' 'story' 'love' 'work' 'great' 'would' 'get']\n",
      " ['read' 'one' 'make' 'would' 'time' 'story' 'good' 'find' 'get' 'want']\n",
      " ['one' 'read' 'good' 'like' 'great' 'find' 'work' 'would' 'people'\n",
      "  'write']\n",
      " ['much' 'one' 'good' 'like' 'write' 'would' 'make' 'time' 'story' 'get']\n",
      " ['one' 'good' 'read' 'doe' 'think' 'time' 'write' 'like' 'use' 'find']]\n"
     ]
    }
   ],
   "source": [
    "show_words_by_topic(bigram_prob_001_5, vocab, 10)"
   ]
  },
  {
   "cell_type": "markdown",
   "metadata": {},
   "source": [
    "### 10 Topics, $\\alpha$ = $\\beta$ = 0.01"
   ]
  },
  {
   "cell_type": "code",
   "execution_count": null,
   "metadata": {},
   "outputs": [
    {
     "name": "stdout",
     "output_type": "stream",
     "text": [
      "Iteration 0\n",
      "Iteration 10\n",
      "Iteration 20\n",
      "Iteration 30\n",
      "Iteration 40\n",
      "Iteration 50\n",
      "Iteration 60\n",
      "Iteration 70\n",
      "Iteration 80\n",
      "Iteration 90\n",
      "Iteration 100\n",
      "Iteration 110\n",
      "Iteration 120\n",
      "Iteration 130\n",
      "Iteration 140\n",
      "Iteration 150\n",
      "Iteration 160\n",
      "Iteration 170\n",
      "Iteration 180\n",
      "Iteration 190\n"
     ]
    }
   ],
   "source": [
    "alpha = 0.01\n",
    "beta = alpha\n",
    "n_topics = 10\n",
    "\n",
    "bigram_prob_001_10 = run_bigram_LDA(docs_int, max_iterations, alpha, beta, n_topics)"
   ]
  },
  {
   "cell_type": "code",
   "execution_count": null,
   "metadata": {},
   "outputs": [],
   "source": [
    "show_words_by_topic(bigram_prob_001_10, vocab, 10)"
   ]
  }
 ],
 "metadata": {
  "kernelspec": {
   "display_name": "Python 3",
   "language": "python",
   "name": "python3"
  },
  "language_info": {
   "codemirror_mode": {
    "name": "ipython",
    "version": 3
   },
   "file_extension": ".py",
   "mimetype": "text/x-python",
   "name": "python",
   "nbconvert_exporter": "python",
   "pygments_lexer": "ipython3",
   "version": "3.7.6"
  }
 },
 "nbformat": 4,
 "nbformat_minor": 2
}
