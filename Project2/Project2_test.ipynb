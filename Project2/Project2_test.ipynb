{
 "cells": [
  {
   "cell_type": "code",
   "execution_count": 1,
   "metadata": {},
   "outputs": [
    {
     "name": "stderr",
     "output_type": "stream",
     "text": [
      "[nltk_data] Downloading package stopwords to\n",
      "[nltk_data]     C:\\Users\\Sara\\AppData\\Roaming\\nltk_data...\n",
      "[nltk_data]   Package stopwords is already up-to-date!\n"
     ]
    }
   ],
   "source": [
    "import numpy as np\n",
    "import pandas as pd\n",
    "import nltk\n",
    "import time\n",
    "nltk.download('stopwords')\n",
    "\n",
    "from numpy import random as rd\n",
    "from scipy.special import gammaln\n",
    "from nltk.corpus import stopwords\n",
    "from collections import Counter\n",
    "from collections import defaultdict\n",
    "from matplotlib import pyplot as plt"
   ]
  },
  {
   "cell_type": "markdown",
   "metadata": {},
   "source": [
    "# Function definitions"
   ]
  },
  {
   "cell_type": "markdown",
   "metadata": {
    "heading_collapsed": true
   },
   "source": [
    "## File related"
   ]
  },
  {
   "cell_type": "code",
   "execution_count": 2,
   "metadata": {
    "hidden": true
   },
   "outputs": [],
   "source": [
    "def find_n_lines(filename, encoding, n_tokens):\n",
    "    \"\"\"\n",
    "    We should train on a subset of the corpus, with 100 0000 tokens. Find how many lines this corresponds to.\n",
    "    \"\"\"\n",
    "    \n",
    "    line_counter = 0\n",
    "    token_counter = 0\n",
    "\n",
    "    with open(filename, encoding = encoding) as f:\n",
    "        for line in f:\n",
    "\n",
    "            line_counter += 1\n",
    "            tokens = line.lower().split()\n",
    "\n",
    "            for token in tokens:\n",
    "                token_counter += 1\n",
    "\n",
    "            if token_counter > n_tokens:\n",
    "                break\n",
    "\n",
    "    return line_counter\n",
    "\n",
    "\n",
    "def count_word_frequencies(filename, encoding, n_lines, ignore_list):\n",
    "    \n",
    "    freqs = Counter()\n",
    "    with open(filename, encoding = encoding) as f:\n",
    "        for i, line in enumerate(f):\n",
    "            \n",
    "            tokens = line.lower().split()\n",
    "            for token in tokens:\n",
    "                if token not in ignore_list:\n",
    "                    freqs[token] += 1\n",
    "                \n",
    "            if i == n_lines:\n",
    "                break\n",
    "                \n",
    "    return freqs"
   ]
  },
  {
   "cell_type": "markdown",
   "metadata": {
    "heading_collapsed": true
   },
   "source": [
    "## Batch related"
   ]
  },
  {
   "cell_type": "code",
   "execution_count": 3,
   "metadata": {
    "hidden": true
   },
   "outputs": [],
   "source": [
    "def create_integer_vocabulary(word_freqs, max_voc_size):\n",
    "    \n",
    "    \"\"\" \n",
    "    Create vocabulary where common words are matched to integers. \n",
    "    \"\"\"\n",
    "    \n",
    "    word_list = []\n",
    "\n",
    "    if len(word_freqs.most_common()) > max_voc_size:\n",
    "        vocab = word_freqs.most_common()[0:max_voc_size]\n",
    "\n",
    "    else:\n",
    "        vocab = word_freqs.most_common()\n",
    "\n",
    "    for i in range(len(vocab)):\n",
    "        word_list.append(vocab[i][0])\n",
    "\n",
    "    # Get pairs of elements    \n",
    "    tmp = zip(word_list, range(1,max_voc_size+1))\n",
    "    # Make pairs into a dictionary\n",
    "    vocab = dict(tmp)\n",
    "\n",
    "    # Create default dictionary - returns 0 if an undefined key is called\n",
    "    vocab2 = defaultdict(int)\n",
    "    vocab2.update(vocab)\n",
    "    \n",
    "    return vocab2\n",
    "\n",
    "def find_batch_dimensions(batch_size, filename, ENCODING):\n",
    "    \"\"\"\n",
    "    Find the length of the longest line in each batch.\n",
    "    \"\"\"\n",
    "    \n",
    "    counter = 0      # will end up being the number of lines in the document\n",
    "    len_lines = []   # will contain maximum length of a line in each batch\n",
    "    tmp_lines = []\n",
    "    \n",
    "    with open(filename, encoding=ENCODING) as f:\n",
    "        for line in f:\n",
    "            counter+=1\n",
    "            tokens = line.lower().split()\n",
    "            tmp_lines.append(len(tokens))\n",
    "\n",
    "            if (counter % batch_size == 0):\n",
    "                len_lines.append(max(tmp_lines))\n",
    "                tmp_lines = []\n",
    "                \n",
    "        #This takes care of the last batch if number of lines is not an exact multiple of batch_size\n",
    "        if (counter % batch_size != 0): \n",
    "            len_lines.append(max(tmp_lines)) # if at end of the file\n",
    "            \n",
    "    return counter, len_lines\n",
    "    \n",
    "\n",
    "def create_batches(batch_size, vocabulary, filename, ENCODING):\n",
    "    \"\"\"\n",
    "    Splits the file into batches of a specified size, and transforms common words to integers.\n",
    "    The batches are outputted in a numpy array padded with zeros. Words not in the vocabulary are set to -1.\n",
    "    \"\"\"\n",
    "    \n",
    "    counter, len_lines = find_batch_dimensions(batch_size, filename, ENCODING)\n",
    "    \n",
    "    with open(filename, encoding=ENCODING) as f:\n",
    "        batches=[]\n",
    "        batch_counter=0\n",
    "        line_counter=0\n",
    "\n",
    "        for line in f:\n",
    "            #This creates a temporary array each time we start a new batch\n",
    "            if line_counter % batch_size == 0:\n",
    "                tmp_array=np.zeros(shape=(batch_size,len_lines[batch_counter])) #fill this temporary array\n",
    "\n",
    "            tokens = line.lower().split()\n",
    "            line_as_int = list(map(vocabulary.get, tokens))\n",
    "            line_as_int = [-1 if x is None else x for x in line_as_int] # set None values to -1\n",
    "\n",
    "            tmp_array[line_counter % batch_size,0:(len(line_as_int))]=line_as_int\n",
    "\n",
    "            line_counter+=1 #when we done\n",
    "            if line_counter % batch_size ==0:\n",
    "                batches.append(tmp_array)\n",
    "                batch_counter+=1\n",
    "\n",
    "        # again this takes care of the final batch if number of lines is not multiple of batch_size\n",
    "        if line_counter % batch_size != 0:\n",
    "            tmp_array=tmp_array[0:(line_counter % batch_size),:]\n",
    "            batches.append(tmp_array)\n",
    "        \n",
    "    return(counter, batches)\n",
    "\n",
    "def get_matrix(filename, encoding, n_tokens, ignore_words):\n",
    "    # Find how many lines we need to read to get the desired number of tokens\n",
    "    n_docs = find_n_lines(filename, encoding, n_tokens)\n",
    "\n",
    "    # Count word frequencies in this subset of the file\n",
    "    word_frequencies = count_word_frequencies(filename, encoding, n_docs, ignore_words)\n",
    "\n",
    "    # Create an integer vocabulary. Don't remove any words from the vocabulary.\n",
    "    voc_size = len(word_frequencies)\n",
    "    vocabulary = create_integer_vocabulary(word_frequencies, voc_size)\n",
    "\n",
    "    # Turn the document into batches\n",
    "    lines, batches = create_batches(batch_size=n_docs, vocabulary = vocabulary, filename = filename, ENCODING = encoding)\n",
    "\n",
    "    # Save only the first batch - this is what we'll analyse\n",
    "    matrix = batches[0].astype(int)\n",
    "    return n_docs, matrix, vocabulary, voc_size"
   ]
  },
  {
   "cell_type": "markdown",
   "metadata": {},
   "source": [
    "## LDA Related"
   ]
  },
  {
   "cell_type": "code",
   "execution_count": 4,
   "metadata": {},
   "outputs": [],
   "source": [
    "def initialise_everything(n_docs, n_topics, voc_size, int_matrix):\n",
    "    \"\"\"\n",
    "    Initialise some stuff!\n",
    "    \"\"\"\n",
    "\n",
    "    # Number of times that we observe topic z in document d\n",
    "    ndz = np.zeros((n_docs, n_topics))\n",
    "\n",
    "    # Number of times that we observe word w in topic z\n",
    "    nzw = np.zeros((n_topics, voc_size))\n",
    "\n",
    "    # Counters for documents and topics\n",
    "    nd = np.zeros(n_docs)\n",
    "    nz = np.zeros(n_topics)\n",
    "\n",
    "    # Create dictionary of topics\n",
    "    topics = {}\n",
    "\n",
    "    # iterate over documents \n",
    "    for d in range(n_docs):\n",
    "\n",
    "        # i is the index of the word in the document\n",
    "        # w is the numerical representation of the word\n",
    "        for i, w in enumerate(int_matrix[d]):\n",
    "\n",
    "            # Initialise with a random topic\n",
    "            z = rd.randint(n_topics)\n",
    "            topics[(d,i)] = z\n",
    "\n",
    "            # Increase counters\n",
    "            ndz[d, z] += 1\n",
    "            nzw[z, w] += 1\n",
    "\n",
    "            nd[d] += 1\n",
    "            nz[z] += 1\n",
    "\n",
    "    return topics, ndz, nzw, nd, nz"
   ]
  },
  {
   "cell_type": "code",
   "execution_count": 5,
   "metadata": {},
   "outputs": [],
   "source": [
    "def cond_topic_prob(ndz, nzw, nz, nd, w, d, alpha, beta, n_topics):\n",
    "    \"\"\"\n",
    "    Conditional probability of topics. Is this the same formula as in lecture notes?\n",
    "    \"\"\"\n",
    "\n",
    "    left = (nzw[:,w] + beta) / (nz + beta * voc_size)\n",
    "    right = (ndz[d,:] + alpha) / (nd[d] + alpha * n_topics)\n",
    "\n",
    "    p_z = left * right\n",
    "    p_z /= np.sum(p_z)\n",
    "    \n",
    "    return p_z\n",
    "\n",
    "def log_multinomial_beta(alpha, K=None):\n",
    "\n",
    "    if K is None:\n",
    "        # alpha is assumed to be a vector\n",
    "        return np.sum(gammaln(alpha)) - gammaln(np.sum(alpha))\n",
    "    else:\n",
    "        # alpha is assumed to be a scalar\n",
    "        return K * gammaln(alpha) - gammaln(K*alpha)\n",
    "\n",
    "# This should increase as training progresses, show it every few training iterations (?)\n",
    "def loglikelihood(n_topics, voc_size, alpha, beta, nzw, ndz):\n",
    "    likelihood = 0\n",
    "    \n",
    "    for z in range(n_topics):\n",
    "        likelihood += log_multinomial_beta(nzw[z,:] + beta)\n",
    "        likelihood -= log_multinomial_beta(beta, voc_size)\n",
    "        \n",
    "    for d in range(n_docs):\n",
    "        likelihood += log_multinomial_beta(ndz[d,:] + alpha)\n",
    "        likelihood -= log_multinomial_beta(alpha, n_topics)\n",
    "        \n",
    "    return likelihood"
   ]
  },
  {
   "cell_type": "code",
   "execution_count": 6,
   "metadata": {},
   "outputs": [],
   "source": [
    "def LDA_Gibbs_Sampler(matrix, voc_size, n_docs, n_topics, max_iterations, alpha, beta):\n",
    "\n",
    "    start_time = time.time()\n",
    "    topics, ndz, nzw, nd, nz = initialise_everything(n_docs, n_topics, voc_size, matrix)\n",
    "\n",
    "    for i in range(max_iterations):\n",
    "        for d in range(n_docs):\n",
    "             for j, w in enumerate(matrix[d]):\n",
    "\n",
    "                    z = topics[(d, j)]\n",
    "                    ndz[d, z] -= 1\n",
    "                    nzw[z, w] -= 1\n",
    "                    nd[d] -= 1\n",
    "                    nz[z] -= 1\n",
    "\n",
    "                    p_z = cond_topic_prob(ndz, nzw, nz, nd, w, d, alpha, beta, n_topics)\n",
    "                    z = rd.multinomial(1, p_z).argmax()\n",
    "\n",
    "                    ndz[d,z] += 1\n",
    "                    nzw[z,w] += 1\n",
    "                    nd[d] += 1\n",
    "                    nz[z] += 1\n",
    "                    topics[(d, j)] = z\n",
    "\n",
    "        print(\"Iteration\", i)\n",
    "        print(\"Likelihood\", loglikelihood(n_topics, voc_size, alpha, beta, nzw, ndz))\n",
    "\n",
    "    elapsed_time = time.time() - start_time\n",
    "    print(\"Elapsed time: \", elapsed_time)\n",
    "    \n",
    "    return nzw"
   ]
  },
  {
   "cell_type": "code",
   "execution_count": 82,
   "metadata": {},
   "outputs": [],
   "source": [
    "def show_words_by_topic(word_topic_prob, vocabulary, typical_len):\n",
    "    \n",
    "    n_topics = word_topic_prob.shape[0]\n",
    "    typical_words = []\n",
    "\n",
    "    for i in range(n_topics):\n",
    "        arr = word_topic_prob[i,:]\n",
    "        typical_ints = arr.argsort()[-typical_len-2:-2][::-1]   # there's some funny business with the last word in vocab\n",
    "        #print(typical_ints)\n",
    "\n",
    "        for search_int in typical_ints:\n",
    "            for k, v in vocabulary.items(): \n",
    "                if v == search_int:\n",
    "                    typical_words.append(k)\n",
    "                    break\n",
    "\n",
    "    # Print the most common words in each topic\n",
    "    typical_words = np.reshape(typical_words, [n_topics, -1])\n",
    "    print(typical_words)\n"
   ]
  },
  {
   "cell_type": "markdown",
   "metadata": {},
   "source": [
    "# 1: Write your own code for doing Gibbs sampling for LDA"
   ]
  },
  {
   "cell_type": "code",
   "execution_count": 8,
   "metadata": {},
   "outputs": [],
   "source": [
    "# Ignore all stopwords in the text!\n",
    "ignore_words = stopwords.words('english')\n",
    "also_ignore = [\",\", \".\", '\"', \"(\", \")\", \"n't\", \"-\", \"'\", \"'s\", \"'m\", \"!\", \"?\", \":\", \";\", \"/\"]\n",
    "\n",
    "for item in also_ignore:\n",
    "    ignore_words.append(item)"
   ]
  },
  {
   "cell_type": "code",
   "execution_count": 9,
   "metadata": {
    "scrolled": true
   },
   "outputs": [],
   "source": [
    "filename = \"books.txt\" \n",
    "encoding = \"ISO-8859-1\"\n",
    "n_tokens = 10**5\n",
    "\n",
    "n_docs, matrix, vocabulary, voc_size = get_matrix(filename, encoding, n_tokens, ignore_words)"
   ]
  },
  {
   "cell_type": "code",
   "execution_count": 47,
   "metadata": {},
   "outputs": [],
   "source": [
    "typical_len = 10\n",
    "max_iterations = 50"
   ]
  },
  {
   "cell_type": "markdown",
   "metadata": {},
   "source": [
    "### 10 Topics, $\\alpha = \\beta = 0.1$"
   ]
  },
  {
   "cell_type": "code",
   "execution_count": 48,
   "metadata": {
    "collapsed": true
   },
   "outputs": [
    {
     "name": "stdout",
     "output_type": "stream",
     "text": [
      "Iteration 0\n",
      "Likelihood -2959461.7915741513\n",
      "Iteration 1\n",
      "Likelihood -2940257.311157539\n",
      "Iteration 2\n",
      "Likelihood -2925523.047138514\n",
      "Iteration 3\n",
      "Likelihood -2911869.3406520733\n",
      "Iteration 4\n",
      "Likelihood -2897729.3657757165\n",
      "Iteration 5\n",
      "Likelihood -2882917.9674948207\n",
      "Iteration 6\n",
      "Likelihood -2865786.6832138174\n",
      "Iteration 7\n",
      "Likelihood -2843921.32222889\n",
      "Iteration 8\n",
      "Likelihood -2811810.7728373394\n",
      "Iteration 9\n",
      "Likelihood -2771480.3365318426\n",
      "Iteration 10\n",
      "Likelihood -2725559.3087392207\n",
      "Iteration 11\n",
      "Likelihood -2676803.521659355\n",
      "Iteration 12\n",
      "Likelihood -2634905.3646270726\n",
      "Iteration 13\n",
      "Likelihood -2599352.1737921517\n",
      "Iteration 14\n",
      "Likelihood -2573341.203122192\n",
      "Iteration 15\n",
      "Likelihood -2553125.8285477287\n",
      "Iteration 16\n",
      "Likelihood -2536621.514484279\n",
      "Iteration 17\n",
      "Likelihood -2521959.3685467397\n",
      "Iteration 18\n",
      "Likelihood -2510125.853649458\n",
      "Iteration 19\n",
      "Likelihood -2496498.1699143606\n",
      "Iteration 20\n",
      "Likelihood -2480397.647884874\n",
      "Iteration 21\n",
      "Likelihood -2464348.1137015023\n",
      "Iteration 22\n",
      "Likelihood -2448977.7504874323\n",
      "Iteration 23\n",
      "Likelihood -2433651.7044175887\n",
      "Iteration 24\n",
      "Likelihood -2417803.1619366566\n",
      "Iteration 25\n",
      "Likelihood -2401741.6624918017\n",
      "Iteration 26\n",
      "Likelihood -2387570.2324216873\n",
      "Iteration 27\n",
      "Likelihood -2373029.604889255\n",
      "Iteration 28\n",
      "Likelihood -2359063.255636493\n",
      "Iteration 29\n",
      "Likelihood -2344819.2455936433\n",
      "Iteration 30\n",
      "Likelihood -2333966.6656436548\n",
      "Iteration 31\n",
      "Likelihood -2321300.2654043366\n",
      "Iteration 32\n",
      "Likelihood -2309480.7132014246\n",
      "Iteration 33\n",
      "Likelihood -2297748.505195124\n",
      "Iteration 34\n",
      "Likelihood -2284437.3829366486\n",
      "Iteration 35\n",
      "Likelihood -2272024.397864729\n",
      "Iteration 36\n",
      "Likelihood -2260155.937233109\n",
      "Iteration 37\n",
      "Likelihood -2248796.2377622635\n",
      "Iteration 38\n",
      "Likelihood -2236804.1207922143\n",
      "Iteration 39\n",
      "Likelihood -2223602.04394564\n",
      "Iteration 40\n",
      "Likelihood -2212452.780640111\n",
      "Iteration 41\n",
      "Likelihood -2201314.589576719\n",
      "Iteration 42\n",
      "Likelihood -2188580.972817917\n",
      "Iteration 43\n",
      "Likelihood -2178739.567757034\n",
      "Iteration 44\n",
      "Likelihood -2170011.308036638\n",
      "Iteration 45\n",
      "Likelihood -2159250.0414371863\n",
      "Iteration 46\n",
      "Likelihood -2149592.521994254\n",
      "Iteration 47\n",
      "Likelihood -2138863.5112456935\n",
      "Iteration 48\n",
      "Likelihood -2128703.9593195296\n",
      "Iteration 49\n",
      "Likelihood -2117781.286663164\n",
      "Elapsed time:  2347.932925224304\n"
     ]
    },
    {
     "ename": "ValueError",
     "evalue": "cannot reshape array of size 101 into shape (10,newaxis)",
     "output_type": "error",
     "traceback": [
      "\u001b[1;31m---------------------------------------------------------------------------\u001b[0m",
      "\u001b[1;31mValueError\u001b[0m                                Traceback (most recent call last)",
      "\u001b[1;32m<ipython-input-48-a52ddb50e680>\u001b[0m in \u001b[0;36m<module>\u001b[1;34m\u001b[0m\n\u001b[0;32m      3\u001b[0m word_topic_prob_01_10 = LDA_Gibbs_Sampler(matrix, voc_size, n_docs, n_topics, \\\n\u001b[0;32m      4\u001b[0m                                           max_iterations, alpha = 0.1, beta = 0.1)\n\u001b[1;32m----> 5\u001b[1;33m \u001b[0mshow_words_by_topic\u001b[0m\u001b[1;33m(\u001b[0m\u001b[0mword_topic_prob_01_10\u001b[0m\u001b[1;33m,\u001b[0m \u001b[0mvocabulary\u001b[0m\u001b[1;33m,\u001b[0m \u001b[0mtypical_len\u001b[0m\u001b[1;33m)\u001b[0m\u001b[1;33m\u001b[0m\u001b[1;33m\u001b[0m\u001b[0m\n\u001b[0m",
      "\u001b[1;32m<ipython-input-41-3777e4057c54>\u001b[0m in \u001b[0;36mshow_words_by_topic\u001b[1;34m(word_topic_prob, vocabulary, typical_len)\u001b[0m\n\u001b[0;32m     16\u001b[0m \u001b[1;33m\u001b[0m\u001b[0m\n\u001b[0;32m     17\u001b[0m     \u001b[1;31m# Print the most common words in each topic\u001b[0m\u001b[1;33m\u001b[0m\u001b[1;33m\u001b[0m\u001b[1;33m\u001b[0m\u001b[0m\n\u001b[1;32m---> 18\u001b[1;33m     \u001b[0mtypical_words\u001b[0m \u001b[1;33m=\u001b[0m \u001b[0mnp\u001b[0m\u001b[1;33m.\u001b[0m\u001b[0mreshape\u001b[0m\u001b[1;33m(\u001b[0m\u001b[0mtypical_words\u001b[0m\u001b[1;33m,\u001b[0m \u001b[1;33m[\u001b[0m\u001b[0mn_topics\u001b[0m\u001b[1;33m,\u001b[0m \u001b[1;33m-\u001b[0m\u001b[1;36m1\u001b[0m\u001b[1;33m]\u001b[0m\u001b[1;33m)\u001b[0m\u001b[1;33m\u001b[0m\u001b[1;33m\u001b[0m\u001b[0m\n\u001b[0m\u001b[0;32m     19\u001b[0m     \u001b[0mprint\u001b[0m\u001b[1;33m(\u001b[0m\u001b[0mtypical_words\u001b[0m\u001b[1;33m)\u001b[0m\u001b[1;33m\u001b[0m\u001b[1;33m\u001b[0m\u001b[0m\n",
      "\u001b[1;32m<__array_function__ internals>\u001b[0m in \u001b[0;36mreshape\u001b[1;34m(*args, **kwargs)\u001b[0m\n",
      "\u001b[1;32m~\\anaconda3\\lib\\site-packages\\numpy\\core\\fromnumeric.py\u001b[0m in \u001b[0;36mreshape\u001b[1;34m(a, newshape, order)\u001b[0m\n\u001b[0;32m    299\u001b[0m            [5, 6]])\n\u001b[0;32m    300\u001b[0m     \"\"\"\n\u001b[1;32m--> 301\u001b[1;33m     \u001b[1;32mreturn\u001b[0m \u001b[0m_wrapfunc\u001b[0m\u001b[1;33m(\u001b[0m\u001b[0ma\u001b[0m\u001b[1;33m,\u001b[0m \u001b[1;34m'reshape'\u001b[0m\u001b[1;33m,\u001b[0m \u001b[0mnewshape\u001b[0m\u001b[1;33m,\u001b[0m \u001b[0morder\u001b[0m\u001b[1;33m=\u001b[0m\u001b[0morder\u001b[0m\u001b[1;33m)\u001b[0m\u001b[1;33m\u001b[0m\u001b[1;33m\u001b[0m\u001b[0m\n\u001b[0m\u001b[0;32m    302\u001b[0m \u001b[1;33m\u001b[0m\u001b[0m\n\u001b[0;32m    303\u001b[0m \u001b[1;33m\u001b[0m\u001b[0m\n",
      "\u001b[1;32m~\\anaconda3\\lib\\site-packages\\numpy\\core\\fromnumeric.py\u001b[0m in \u001b[0;36m_wrapfunc\u001b[1;34m(obj, method, *args, **kwds)\u001b[0m\n\u001b[0;32m     56\u001b[0m     \u001b[0mbound\u001b[0m \u001b[1;33m=\u001b[0m \u001b[0mgetattr\u001b[0m\u001b[1;33m(\u001b[0m\u001b[0mobj\u001b[0m\u001b[1;33m,\u001b[0m \u001b[0mmethod\u001b[0m\u001b[1;33m,\u001b[0m \u001b[1;32mNone\u001b[0m\u001b[1;33m)\u001b[0m\u001b[1;33m\u001b[0m\u001b[1;33m\u001b[0m\u001b[0m\n\u001b[0;32m     57\u001b[0m     \u001b[1;32mif\u001b[0m \u001b[0mbound\u001b[0m \u001b[1;32mis\u001b[0m \u001b[1;32mNone\u001b[0m\u001b[1;33m:\u001b[0m\u001b[1;33m\u001b[0m\u001b[1;33m\u001b[0m\u001b[0m\n\u001b[1;32m---> 58\u001b[1;33m         \u001b[1;32mreturn\u001b[0m \u001b[0m_wrapit\u001b[0m\u001b[1;33m(\u001b[0m\u001b[0mobj\u001b[0m\u001b[1;33m,\u001b[0m \u001b[0mmethod\u001b[0m\u001b[1;33m,\u001b[0m \u001b[1;33m*\u001b[0m\u001b[0margs\u001b[0m\u001b[1;33m,\u001b[0m \u001b[1;33m**\u001b[0m\u001b[0mkwds\u001b[0m\u001b[1;33m)\u001b[0m\u001b[1;33m\u001b[0m\u001b[1;33m\u001b[0m\u001b[0m\n\u001b[0m\u001b[0;32m     59\u001b[0m \u001b[1;33m\u001b[0m\u001b[0m\n\u001b[0;32m     60\u001b[0m     \u001b[1;32mtry\u001b[0m\u001b[1;33m:\u001b[0m\u001b[1;33m\u001b[0m\u001b[1;33m\u001b[0m\u001b[0m\n",
      "\u001b[1;32m~\\anaconda3\\lib\\site-packages\\numpy\\core\\fromnumeric.py\u001b[0m in \u001b[0;36m_wrapit\u001b[1;34m(obj, method, *args, **kwds)\u001b[0m\n\u001b[0;32m     45\u001b[0m     \u001b[1;32mexcept\u001b[0m \u001b[0mAttributeError\u001b[0m\u001b[1;33m:\u001b[0m\u001b[1;33m\u001b[0m\u001b[1;33m\u001b[0m\u001b[0m\n\u001b[0;32m     46\u001b[0m         \u001b[0mwrap\u001b[0m \u001b[1;33m=\u001b[0m \u001b[1;32mNone\u001b[0m\u001b[1;33m\u001b[0m\u001b[1;33m\u001b[0m\u001b[0m\n\u001b[1;32m---> 47\u001b[1;33m     \u001b[0mresult\u001b[0m \u001b[1;33m=\u001b[0m \u001b[0mgetattr\u001b[0m\u001b[1;33m(\u001b[0m\u001b[0masarray\u001b[0m\u001b[1;33m(\u001b[0m\u001b[0mobj\u001b[0m\u001b[1;33m)\u001b[0m\u001b[1;33m,\u001b[0m \u001b[0mmethod\u001b[0m\u001b[1;33m)\u001b[0m\u001b[1;33m(\u001b[0m\u001b[1;33m*\u001b[0m\u001b[0margs\u001b[0m\u001b[1;33m,\u001b[0m \u001b[1;33m**\u001b[0m\u001b[0mkwds\u001b[0m\u001b[1;33m)\u001b[0m\u001b[1;33m\u001b[0m\u001b[1;33m\u001b[0m\u001b[0m\n\u001b[0m\u001b[0;32m     48\u001b[0m     \u001b[1;32mif\u001b[0m \u001b[0mwrap\u001b[0m\u001b[1;33m:\u001b[0m\u001b[1;33m\u001b[0m\u001b[1;33m\u001b[0m\u001b[0m\n\u001b[0;32m     49\u001b[0m         \u001b[1;32mif\u001b[0m \u001b[1;32mnot\u001b[0m \u001b[0misinstance\u001b[0m\u001b[1;33m(\u001b[0m\u001b[0mresult\u001b[0m\u001b[1;33m,\u001b[0m \u001b[0mmu\u001b[0m\u001b[1;33m.\u001b[0m\u001b[0mndarray\u001b[0m\u001b[1;33m)\u001b[0m\u001b[1;33m:\u001b[0m\u001b[1;33m\u001b[0m\u001b[1;33m\u001b[0m\u001b[0m\n",
      "\u001b[1;31mValueError\u001b[0m: cannot reshape array of size 101 into shape (10,newaxis)"
     ]
    }
   ],
   "source": [
    "n_topics = 10\n",
    "\n",
    "word_topic_prob_01_10 = LDA_Gibbs_Sampler(matrix, voc_size, n_docs, n_topics, \\\n",
    "                                          max_iterations, alpha = 0.1, beta = 0.1)"
   ]
  },
  {
   "cell_type": "code",
   "execution_count": 83,
   "metadata": {
    "scrolled": true
   },
   "outputs": [
    {
     "name": "stdout",
     "output_type": "stream",
     "text": [
      "[['read' 'books' 'really' 'one' 'best' 'could' 'help' 'ever' 'got'\n",
      "  'characters']\n",
      " ['great' 'read' 'story' 'would' 'like' 'information' 'find' 'little'\n",
      "  'problems' 'dr.']\n",
      " ['book' 'one' 'like' 'life' 'us' 'also' 'best' 'two' 'new' 'shows']\n",
      " ['years' 'war' 'first' 'rather' 'two' 'author' 'books' 'also' 'really'\n",
      "  'children']\n",
      " ['book' 'good' 'well' 'reading' 'writing' 'information' 'stories'\n",
      "  'never' 'world' 'used']\n",
      " ['book' 'people' 'many' 'time' 'real' 'recommend' 'history' 'see' 'work'\n",
      "  'interested']\n",
      " ['book' 'read' 'time' 'every' 'found' 'way' 'written' 'lot' 'understand'\n",
      "  'interesting']\n",
      " ['book' 'life' 'one' 'way' 'story' 'novel' 'many' 'could' 'characters'\n",
      "  'much']\n",
      " ['fghkfty' 'one' 'books' 'read' 'would' 'reading' 'work' 'first' 'also'\n",
      "  'like']\n",
      " ['book' 'read' 'world' 'highly' 'would' 'easy' 'love' 'better' 'could'\n",
      "  'amazing']]\n"
     ]
    }
   ],
   "source": [
    "show_words_by_topic(word_topic_prob_01_10, vocabulary, typical_len)"
   ]
  },
  {
   "cell_type": "markdown",
   "metadata": {},
   "source": [
    "show_words_by_topic(word_topic_prob_01_10, vocabulary, typical_len)"
   ]
  },
  {
   "cell_type": "markdown",
   "metadata": {},
   "source": [
    "[['book' 'great' 'reading' 'read' 'real' 'anyone' 'written' 'got' 'loved'\n",
    "  'recommended']\n",
    " ['story' 'great' 'best' 'well' 'work' 'world' 'many' 'first' 'series'\n",
    "  'novel']\n",
    " ['book' 'one' 'would' 'life' 'time' 'read' 'good' 'get' 'also' 'see']\n",
    " ['best' 'like' 'novel' 'one' 'book' 'first' 'much' 'school' 'students'\n",
    "  'ever']\n",
    " ['book' 'books' 'one' 'new' 'many' 'world' 'little' 'author' 'people'\n",
    "  'even']\n",
    " ['highly' 'one' 'book' 'really' 'stories' 'think' 'going' 'could'\n",
    "  'reference' 'time']\n",
    " ['book' 'read' 'make' 'great' 'want' 'recommend' 'writing' 'new' 'buy'\n",
    "  'feel']\n",
    " ['worth' 'information' 'writing' 'help' 'learn' 'found' 'find' 'years'\n",
    "  'read' 'good']\n",
    " ['book' 'read' 'well' 'good' 'understand' 'really' 'recommend' 'human'\n",
    "  'like' 'way']\n",
    " ['would' 'every' 'like' 'give' 'works' 'could' 'review' 'know' 'study'\n",
    "  'recipes']]"
   ]
  },
  {
   "cell_type": "markdown",
   "metadata": {},
   "source": [
    "### 50 Topics, $\\alpha = \\beta = 0.1$"
   ]
  },
  {
   "cell_type": "code",
   "execution_count": null,
   "metadata": {},
   "outputs": [],
   "source": [
    "n_topics = 50\n",
    "\n",
    "word_topic_prob_01_50 = LDA_Gibbs_Sampler(matrix, voc_size, n_docs, n_topics, \\\n",
    "                                          max_iterations, alpha = 0.1, beta = 0.1)"
   ]
  },
  {
   "cell_type": "code",
   "execution_count": null,
   "metadata": {},
   "outputs": [],
   "source": [
    "show_words_by_topic(word_topic_prob_01_50, vocabulary, typical_len)"
   ]
  },
  {
   "cell_type": "markdown",
   "metadata": {},
   "source": [
    "### 10 Topics, $\\alpha = \\beta = 0.01$"
   ]
  },
  {
   "cell_type": "code",
   "execution_count": null,
   "metadata": {},
   "outputs": [],
   "source": [
    "n_topics = 10\n",
    "\n",
    "word_topic_prob_001_10 = LDA_Gibbs_Sampler(matrix, voc_size, n_docs, n_topics, \\ \n",
    "                                           max_iterations, alpha = 0.01, beta = 0.01)"
   ]
  },
  {
   "cell_type": "code",
   "execution_count": null,
   "metadata": {},
   "outputs": [],
   "source": [
    "show_words_by_topic(word_topic_prob_001_10, vocabulary, typical_len)"
   ]
  },
  {
   "cell_type": "markdown",
   "metadata": {},
   "source": [
    "### 50 Topics, $\\alpha = \\beta = 0.01$"
   ]
  },
  {
   "cell_type": "code",
   "execution_count": null,
   "metadata": {},
   "outputs": [],
   "source": [
    "n_topics = 50\n",
    "\n",
    "word_topic_prob_001_50 = LDA_Gibbs_Sampler(matrix, voc_size, n_docs, n_topics, \\\n",
    "                                    max_iterations, alpha = 0.01, beta = 0.01)"
   ]
  },
  {
   "cell_type": "code",
   "execution_count": null,
   "metadata": {},
   "outputs": [],
   "source": [
    "show_words_by_topic(word_topic_prob_001_50, vocabulary, typical_len)"
   ]
  },
  {
   "cell_type": "markdown",
   "metadata": {},
   "source": [
    "# Object oriented in Python - would be less messy to do this"
   ]
  },
  {
   "cell_type": "code",
   "execution_count": null,
   "metadata": {},
   "outputs": [],
   "source": [
    "class Person:\n",
    "    \n",
    "    def __init__(self, name, age):\n",
    "        self.name = name\n",
    "        self.age = age\n",
    "    \n",
    "    def greeting(self):\n",
    "        print(\"Hello, my name is \" + self.name)"
   ]
  },
  {
   "cell_type": "code",
   "execution_count": null,
   "metadata": {},
   "outputs": [],
   "source": [
    "p1 = Person(\"Sara\", 25)\n",
    "p1.age\n",
    "\n",
    "p1.greeting()"
   ]
  },
  {
   "cell_type": "markdown",
   "metadata": {},
   "source": [
    "# 2: Write your own code for doing Gibbs samling on Bigram LDA\n",
    "\n",
    "as in H. M. Wallach: Topic modeling: beyond bag-of-words. ICML(2006) 977-984. http://dirichlet.net/pdf/wallach06topic.pdf"
   ]
  },
  {
   "cell_type": "markdown",
   "metadata": {},
   "source": [
    "For corpus use the Amazon book reviews corpus that you also used in Assignment 1. You may have to use only a subset of the documents. A corpus of 100 000 tokens is sufficients size.\n",
    "\n",
    "Run this for different hyperparameters. For LDA you can try α=β=0.1 and α=β=0.01. (A cross-validation search for optimal values will probably be too slow.) Run also for different numbers of topics, e.g. K=10 and K=50.\n",
    "\n",
    "For the bigram model, see to that you use a larger hyperparameter value on the diagonal of the transition matrix over the topics. Since each document in this model has a transition matrix over topics rather than just a probability distribution, the number of topics cannot be as large as for LDA. Try K=5 and K=10."
   ]
  }
 ],
 "metadata": {
  "kernelspec": {
   "display_name": "Python 3",
   "language": "python",
   "name": "python3"
  },
  "language_info": {
   "codemirror_mode": {
    "name": "ipython",
    "version": 3
   },
   "file_extension": ".py",
   "mimetype": "text/x-python",
   "name": "python",
   "nbconvert_exporter": "python",
   "pygments_lexer": "ipython3",
   "version": "3.7.6"
  }
 },
 "nbformat": 4,
 "nbformat_minor": 4
}
