{
 "cells": [
  {
   "cell_type": "code",
   "execution_count": 15,
   "metadata": {},
   "outputs": [],
   "source": [
    "import numpy as np\n",
    "import pandas as pd\n",
    "\n",
    "from collections import Counter\n",
    "from matplotlib import pyplot as plt"
   ]
  },
  {
   "cell_type": "code",
   "execution_count": 8,
   "metadata": {},
   "outputs": [
    {
     "name": "stdout",
     "output_type": "stream",
     "text": [
      "582\n"
     ]
    }
   ],
   "source": [
    "# We should train on a subset of the corpus, with 100 0000 tokens. Find how many lines this corresponds to\n",
    "\n",
    "filename = \"books.txt\" \n",
    "encoding = \"ISO-8859-1\"\n",
    "\n",
    "line_counter = 0\n",
    "token_counter = 0\n",
    "\n",
    "with open(filename, encoding = encoding) as f:\n",
    "    for line in f:\n",
    "\n",
    "        line_counter += 1\n",
    "        tokens = line.lower().split()\n",
    "\n",
    "        for token in tokens:\n",
    "            token_counter += 1\n",
    "            \n",
    "        if token_counter > 10**5:\n",
    "            break\n",
    "\n",
    "print(line_counter)"
   ]
  },
  {
   "cell_type": "code",
   "execution_count": 17,
   "metadata": {},
   "outputs": [],
   "source": [
    "def count_word_frequencies(filename, encoding, n_documents):\n",
    "    \n",
    "    freqs = Counter()\n",
    "    with open(filename, encoding = encoding) as f:\n",
    "        for i, line in enumerate(f):\n",
    "            \n",
    "            if i == n_documents:\n",
    "                break\n",
    "            \n",
    "            tokens = line.lower().split()\n",
    "            for token in tokens:\n",
    "                freqs[token] += 1\n",
    "                \n",
    "    return freqs, i"
   ]
  },
  {
   "cell_type": "markdown",
   "metadata": {},
   "source": [
    "# 1: Write your own code for doing Gibbs sampling for LDA"
   ]
  },
  {
   "cell_type": "code",
   "execution_count": 53,
   "metadata": {},
   "outputs": [],
   "source": [
    "beta = 0.1\n",
    "alpha = 0.1\n",
    "n_topics = 10\n",
    "\n",
    "# beta = 0.01\n",
    "# alpha = 0.01\n",
    "# n_topics = 50\n",
    "\n",
    "word_frequencies, n_documents = count_word_frequencies(filename, encoding, line_counter)\n",
    "\n",
    "# try ignoring the 20 most common words\n",
    "n_ignore = 20\n",
    "tmp = word_frequencies.most_common()[0:n_ignore]\n",
    "ignore_list = list(map(list, zip(*tmp)))[0]\n",
    "\n",
    "vocab_size = len(word_frequencies) - n_ignore\n",
    "\n",
    "# assign a random topic from 1:n_topics, for each word not on the ignore_list\n",
    "# maybe save the key words for each line as well, to make it easier to step through\n",
    "\n",
    "# I am the night -> night\n"
   ]
  },
  {
   "cell_type": "code",
   "execution_count": null,
   "metadata": {},
   "outputs": [],
   "source": []
  },
  {
   "cell_type": "markdown",
   "metadata": {},
   "source": [
    "Assess model performance by perplexity and in tables over the ten top words for the topics."
   ]
  },
  {
   "cell_type": "markdown",
   "metadata": {},
   "source": [
    "# 2: Write your own code for doing Gibbs samling on Bigram LDA\n",
    "\n",
    "as in H. M. Wallach: Topic modeling: beyond bag-of-words. ICML(2006) 977-984. http://dirichlet.net/pdf/wallach06topic.pdf"
   ]
  },
  {
   "cell_type": "markdown",
   "metadata": {},
   "source": [
    "For corpus use the Amazon book reviews corpus that you also used in Assignment 1. You may have to use only a subset of the documents. A corpus of 100 000 tokens is sufficients size.\n",
    "\n",
    "Run this for different hyperparameters. For LDA you can try α=β=0.1 and α=β=0.01. (A cross-validation search for optimal values will probably be too slow.) Run also for different numbers of topics, e.g. K=10 and K=50.\n",
    "\n",
    "For the bigram model, see to that you use a larger hyperparameter value on the diagonal of the transition matrix over the topics. Since each document in this model has a transition matrix over topics rather than just a probability distribution, the number of topics cannot be as large as for LDA. Try K=5 and K=10."
   ]
  },
  {
   "cell_type": "code",
   "execution_count": null,
   "metadata": {},
   "outputs": [],
   "source": []
  }
 ],
 "metadata": {
  "kernelspec": {
   "display_name": "Python 3",
   "language": "python",
   "name": "python3"
  },
  "language_info": {
   "codemirror_mode": {
    "name": "ipython",
    "version": 3
   },
   "file_extension": ".py",
   "mimetype": "text/x-python",
   "name": "python",
   "nbconvert_exporter": "python",
   "pygments_lexer": "ipython3",
   "version": "3.7.6"
  }
 },
 "nbformat": 4,
 "nbformat_minor": 4
}
